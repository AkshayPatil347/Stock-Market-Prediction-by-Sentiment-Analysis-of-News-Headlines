{
 "cells": [
  {
   "cell_type": "markdown",
   "id": "O4F69cAZO0cl",
   "metadata": {
    "id": "O4F69cAZO0cl"
   },
   "source": [
    "# **GETTING DEPENDENCIES**"
   ]
  },
  {
   "cell_type": "code",
   "execution_count": 1,
   "id": "4bc15b4d",
   "metadata": {
    "id": "4bc15b4d"
   },
   "outputs": [],
   "source": [
    "import numpy as np\n",
    "import pandas as pd\n",
    "import re\n",
    "import string\n",
    "import matplotlib.pyplot as plt\n",
    "import seaborn as sns\n",
    "from random import randint\n",
    "from sklearn.model_selection import train_test_split\n",
    "from sklearn.feature_extraction.text import CountVectorizer\n",
    "from sklearn.feature_extraction.text import TfidfVectorizer\n",
    "from sklearn.ensemble import RandomForestClassifier\n",
    "from sklearn.tree import DecisionTreeClassifier\n",
    "from sklearn.naive_bayes import MultinomialNB\n",
    "from sklearn import svm\n",
    "from sklearn.neighbors import KNeighborsClassifier\n",
    "from sklearn.metrics import classification_report, accuracy_score, confusion_matrix\n",
    "import nltk # to  work with human language data for applying in statistical natural language processing (NLP)\n",
    "from nltk.stem import WordNetLemmatizer\n",
    "from nltk.stem import PorterStemmer # removing the commoner morphological and inflexional endings from words in English\n",
    "from nltk.corpus import stopwords # words that are so common they are basically ignored by typical tokenizers\n"
   ]
  },
  {
   "cell_type": "code",
   "execution_count": 2,
   "id": "KC9Qm_a-vyeZ",
   "metadata": {
    "colab": {
     "base_uri": "https://localhost:8080/"
    },
    "id": "KC9Qm_a-vyeZ",
    "outputId": "8a093804-59fa-494b-aecf-2de41ddfca5f"
   },
   "outputs": [
    {
     "name": "stderr",
     "output_type": "stream",
     "text": [
      "[nltk_data] Downloading package wordnet to C:\\Users\\Akshay\n",
      "[nltk_data]     Patil\\AppData\\Roaming\\nltk_data...\n",
      "[nltk_data]   Package wordnet is already up-to-date!\n",
      "[nltk_data] Downloading package omw-1.4 to C:\\Users\\Akshay\n",
      "[nltk_data]     Patil\\AppData\\Roaming\\nltk_data...\n",
      "[nltk_data]   Package omw-1.4 is already up-to-date!\n",
      "[nltk_data] Downloading package stopwords to C:\\Users\\Akshay\n",
      "[nltk_data]     Patil\\AppData\\Roaming\\nltk_data...\n",
      "[nltk_data]   Package stopwords is already up-to-date!\n"
     ]
    },
    {
     "data": {
      "text/plain": [
       "True"
      ]
     },
     "execution_count": 2,
     "metadata": {},
     "output_type": "execute_result"
    }
   ],
   "source": [
    "nltk.download('wordnet')\n",
    "nltk.download('omw-1.4')\n",
    "nltk.download('stopwords')"
   ]
  },
  {
   "cell_type": "markdown",
   "id": "P5R3ig4fO_Ei",
   "metadata": {
    "id": "P5R3ig4fO_Ei"
   },
   "source": [
    "# **READING DATA**"
   ]
  },
  {
   "cell_type": "code",
   "execution_count": 3,
   "id": "582a810d",
   "metadata": {
    "colab": {
     "base_uri": "https://localhost:8080/"
    },
    "id": "582a810d",
    "outputId": "6cd8d3df-faf2-413e-bc46-f3437d6fa945"
   },
   "outputs": [
    {
     "data": {
      "text/plain": [
       "(1989, 27)"
      ]
     },
     "execution_count": 3,
     "metadata": {},
     "output_type": "execute_result"
    }
   ],
   "source": [
    "# Importing Data\n",
    "df = pd.read_csv(\"Combined_News_DJIA.csv\")\n",
    "df.shape"
   ]
  },
  {
   "cell_type": "code",
   "execution_count": 4,
   "id": "vKHRaYP9Pc3z",
   "metadata": {
    "colab": {
     "base_uri": "https://localhost:8080/",
     "height": 0
    },
    "id": "vKHRaYP9Pc3z",
    "outputId": "a475da42-1b6e-4bac-c704-af5410a3908d"
   },
   "outputs": [
    {
     "data": {
      "text/html": [
       "<div>\n",
       "<style scoped>\n",
       "    .dataframe tbody tr th:only-of-type {\n",
       "        vertical-align: middle;\n",
       "    }\n",
       "\n",
       "    .dataframe tbody tr th {\n",
       "        vertical-align: top;\n",
       "    }\n",
       "\n",
       "    .dataframe thead th {\n",
       "        text-align: right;\n",
       "    }\n",
       "</style>\n",
       "<table border=\"1\" class=\"dataframe\">\n",
       "  <thead>\n",
       "    <tr style=\"text-align: right;\">\n",
       "      <th></th>\n",
       "      <th>Date</th>\n",
       "      <th>Label</th>\n",
       "      <th>Top1</th>\n",
       "      <th>Top2</th>\n",
       "      <th>Top3</th>\n",
       "      <th>Top4</th>\n",
       "      <th>Top5</th>\n",
       "      <th>Top6</th>\n",
       "      <th>Top7</th>\n",
       "      <th>Top8</th>\n",
       "      <th>...</th>\n",
       "      <th>Top16</th>\n",
       "      <th>Top17</th>\n",
       "      <th>Top18</th>\n",
       "      <th>Top19</th>\n",
       "      <th>Top20</th>\n",
       "      <th>Top21</th>\n",
       "      <th>Top22</th>\n",
       "      <th>Top23</th>\n",
       "      <th>Top24</th>\n",
       "      <th>Top25</th>\n",
       "    </tr>\n",
       "  </thead>\n",
       "  <tbody>\n",
       "    <tr>\n",
       "      <th>0</th>\n",
       "      <td>2008-08-08</td>\n",
       "      <td>0</td>\n",
       "      <td>b\"Georgia 'downs two Russian warplanes' as cou...</td>\n",
       "      <td>b'BREAKING: Musharraf to be impeached.'</td>\n",
       "      <td>b'Russia Today: Columns of troops roll into So...</td>\n",
       "      <td>b'Russian tanks are moving towards the capital...</td>\n",
       "      <td>b\"Afghan children raped with 'impunity,' U.N. ...</td>\n",
       "      <td>b'150 Russian tanks have entered South Ossetia...</td>\n",
       "      <td>b\"Breaking: Georgia invades South Ossetia, Rus...</td>\n",
       "      <td>b\"The 'enemy combatent' trials are nothing but...</td>\n",
       "      <td>...</td>\n",
       "      <td>b'Georgia Invades South Ossetia - if Russia ge...</td>\n",
       "      <td>b'Al-Qaeda Faces Islamist Backlash'</td>\n",
       "      <td>b'Condoleezza Rice: \"The US would not act to p...</td>\n",
       "      <td>b'This is a busy day:  The European Union has ...</td>\n",
       "      <td>b\"Georgia will withdraw 1,000 soldiers from Ir...</td>\n",
       "      <td>b'Why the Pentagon Thinks Attacking Iran is a ...</td>\n",
       "      <td>b'Caucasus in crisis: Georgia invades South Os...</td>\n",
       "      <td>b'Indian shoe manufactory  - And again in a se...</td>\n",
       "      <td>b'Visitors Suffering from Mental Illnesses Ban...</td>\n",
       "      <td>b\"No Help for Mexico's Kidnapping Surge\"</td>\n",
       "    </tr>\n",
       "    <tr>\n",
       "      <th>1</th>\n",
       "      <td>2008-08-11</td>\n",
       "      <td>1</td>\n",
       "      <td>b'Why wont America and Nato help us? If they w...</td>\n",
       "      <td>b'Bush puts foot down on Georgian conflict'</td>\n",
       "      <td>b\"Jewish Georgian minister: Thanks to Israeli ...</td>\n",
       "      <td>b'Georgian army flees in disarray as Russians ...</td>\n",
       "      <td>b\"Olympic opening ceremony fireworks 'faked'\"</td>\n",
       "      <td>b'What were the Mossad with fraudulent New Zea...</td>\n",
       "      <td>b'Russia angered by Israeli military sale to G...</td>\n",
       "      <td>b'An American citizen living in S.Ossetia blam...</td>\n",
       "      <td>...</td>\n",
       "      <td>b'Israel and the US behind the Georgian aggres...</td>\n",
       "      <td>b'\"Do not believe TV, neither Russian nor Geor...</td>\n",
       "      <td>b'Riots are still going on in Montreal (Canada...</td>\n",
       "      <td>b'China to overtake US as largest manufacturer'</td>\n",
       "      <td>b'War in South Ossetia [PICS]'</td>\n",
       "      <td>b'Israeli Physicians Group Condemns State Tort...</td>\n",
       "      <td>b' Russia has just beaten the United States ov...</td>\n",
       "      <td>b'Perhaps *the* question about the Georgia - R...</td>\n",
       "      <td>b'Russia is so much better at war'</td>\n",
       "      <td>b\"So this is what it's come to: trading sex fo...</td>\n",
       "    </tr>\n",
       "    <tr>\n",
       "      <th>2</th>\n",
       "      <td>2008-08-12</td>\n",
       "      <td>0</td>\n",
       "      <td>b'Remember that adorable 9-year-old who sang a...</td>\n",
       "      <td>b\"Russia 'ends Georgia operation'\"</td>\n",
       "      <td>b'\"If we had no sexual harassment we would hav...</td>\n",
       "      <td>b\"Al-Qa'eda is losing support in Iraq because ...</td>\n",
       "      <td>b'Ceasefire in Georgia: Putin Outmaneuvers the...</td>\n",
       "      <td>b'Why Microsoft and Intel tried to kill the XO...</td>\n",
       "      <td>b'Stratfor: The Russo-Georgian War and the Bal...</td>\n",
       "      <td>b\"I'm Trying to Get a Sense of This Whole Geor...</td>\n",
       "      <td>...</td>\n",
       "      <td>b'U.S. troops still in Georgia (did you know t...</td>\n",
       "      <td>b'Why Russias response to Georgia was right'</td>\n",
       "      <td>b'Gorbachev accuses U.S. of making a \"serious ...</td>\n",
       "      <td>b'Russia, Georgia, and NATO: Cold War Two'</td>\n",
       "      <td>b'Remember that adorable 62-year-old who led y...</td>\n",
       "      <td>b'War in Georgia: The Israeli connection'</td>\n",
       "      <td>b'All signs point to the US encouraging Georgi...</td>\n",
       "      <td>b'Christopher King argues that the US and NATO...</td>\n",
       "      <td>b'America: The New Mexico?'</td>\n",
       "      <td>b\"BBC NEWS | Asia-Pacific | Extinction 'by man...</td>\n",
       "    </tr>\n",
       "    <tr>\n",
       "      <th>3</th>\n",
       "      <td>2008-08-13</td>\n",
       "      <td>0</td>\n",
       "      <td>b' U.S. refuses Israel weapons to attack Iran:...</td>\n",
       "      <td>b\"When the president ordered to attack Tskhinv...</td>\n",
       "      <td>b' Israel clears troops who killed Reuters cam...</td>\n",
       "      <td>b'Britain\\'s policy of being tough on drugs is...</td>\n",
       "      <td>b'Body of 14 year old found in trunk; Latest (...</td>\n",
       "      <td>b'China has moved 10 *million* quake survivors...</td>\n",
       "      <td>b\"Bush announces Operation Get All Up In Russi...</td>\n",
       "      <td>b'Russian forces sink Georgian ships '</td>\n",
       "      <td>...</td>\n",
       "      <td>b'Elephants extinct by 2020?'</td>\n",
       "      <td>b'US humanitarian missions soon in Georgia - i...</td>\n",
       "      <td>b\"Georgia's DDOS came from US sources\"</td>\n",
       "      <td>b'Russian convoy heads into Georgia, violating...</td>\n",
       "      <td>b'Israeli defence minister: US against strike ...</td>\n",
       "      <td>b'Gorbachev: We Had No Choice'</td>\n",
       "      <td>b'Witness: Russian forces head towards Tbilisi...</td>\n",
       "      <td>b' Quarter of Russians blame U.S. for conflict...</td>\n",
       "      <td>b'Georgian president  says US military will ta...</td>\n",
       "      <td>b'2006: Nobel laureate Aleksander Solzhenitsyn...</td>\n",
       "    </tr>\n",
       "    <tr>\n",
       "      <th>4</th>\n",
       "      <td>2008-08-14</td>\n",
       "      <td>1</td>\n",
       "      <td>b'All the experts admit that we should legalis...</td>\n",
       "      <td>b'War in South Osetia - 89 pictures made by a ...</td>\n",
       "      <td>b'Swedish wrestler Ara Abrahamian throws away ...</td>\n",
       "      <td>b'Russia exaggerated the death toll in South O...</td>\n",
       "      <td>b'Missile That Killed 9 Inside Pakistan May Ha...</td>\n",
       "      <td>b\"Rushdie Condemns Random House's Refusal to P...</td>\n",
       "      <td>b'Poland and US agree to missle defense deal. ...</td>\n",
       "      <td>b'Will the Russians conquer Tblisi? Bet on it,...</td>\n",
       "      <td>...</td>\n",
       "      <td>b'Bank analyst forecast Georgian crisis 2 days...</td>\n",
       "      <td>b\"Georgia confict could set back Russia's US r...</td>\n",
       "      <td>b'War in the Caucasus is as much the product o...</td>\n",
       "      <td>b'\"Non-media\" photos of South Ossetia/Georgia ...</td>\n",
       "      <td>b'Georgian TV reporter shot by Russian sniper ...</td>\n",
       "      <td>b'Saudi Arabia: Mother moves to block child ma...</td>\n",
       "      <td>b'Taliban wages war on humanitarian aid workers'</td>\n",
       "      <td>b'Russia: World  \"can forget about\" Georgia\\'s...</td>\n",
       "      <td>b'Darfur rebels accuse Sudan of mounting major...</td>\n",
       "      <td>b'Philippines : Peace Advocate say Muslims nee...</td>\n",
       "    </tr>\n",
       "    <tr>\n",
       "      <th>...</th>\n",
       "      <td>...</td>\n",
       "      <td>...</td>\n",
       "      <td>...</td>\n",
       "      <td>...</td>\n",
       "      <td>...</td>\n",
       "      <td>...</td>\n",
       "      <td>...</td>\n",
       "      <td>...</td>\n",
       "      <td>...</td>\n",
       "      <td>...</td>\n",
       "      <td>...</td>\n",
       "      <td>...</td>\n",
       "      <td>...</td>\n",
       "      <td>...</td>\n",
       "      <td>...</td>\n",
       "      <td>...</td>\n",
       "      <td>...</td>\n",
       "      <td>...</td>\n",
       "      <td>...</td>\n",
       "      <td>...</td>\n",
       "      <td>...</td>\n",
       "    </tr>\n",
       "    <tr>\n",
       "      <th>1984</th>\n",
       "      <td>2016-06-27</td>\n",
       "      <td>0</td>\n",
       "      <td>Barclays and RBS shares suspended from trading...</td>\n",
       "      <td>Pope says Church should ask forgiveness from g...</td>\n",
       "      <td>Poland 'shocked' by xenophobic abuse of Poles ...</td>\n",
       "      <td>There will be no second referendum, cabinet ag...</td>\n",
       "      <td>Scotland welcome to join EU, Merkel ally says</td>\n",
       "      <td>Sterling dips below Friday's 31-year low amid ...</td>\n",
       "      <td>No negative news about South African President...</td>\n",
       "      <td>Surge in Hate Crimes in the U.K. Following U.K...</td>\n",
       "      <td>...</td>\n",
       "      <td>German lawyers to probe Erdogan over alleged w...</td>\n",
       "      <td>Boris Johnson says the UK will continue to \"in...</td>\n",
       "      <td>Richard Branson is calling on the UK governmen...</td>\n",
       "      <td>Turkey 'sorry for downing Russian jet'</td>\n",
       "      <td>Edward Snowden lawyer vows new push for pardon...</td>\n",
       "      <td>Brexit opinion poll reveals majority don't wan...</td>\n",
       "      <td>Conservative MP Leave Campaigner: \"The leave c...</td>\n",
       "      <td>Economists predict UK recession, further weake...</td>\n",
       "      <td>New EU 'superstate plan by France, Germany: Cr...</td>\n",
       "      <td>Pakistani clerics declare transgender marriage...</td>\n",
       "    </tr>\n",
       "    <tr>\n",
       "      <th>1985</th>\n",
       "      <td>2016-06-28</td>\n",
       "      <td>1</td>\n",
       "      <td>2,500 Scientists To Australia: If You Want To ...</td>\n",
       "      <td>The personal details of 112,000 French police ...</td>\n",
       "      <td>S&amp;amp;P cuts United Kingdom sovereign credit r...</td>\n",
       "      <td>Huge helium deposit found in Africa</td>\n",
       "      <td>CEO of the South African state broadcaster qui...</td>\n",
       "      <td>Brexit cost investors $2 trillion, the worst o...</td>\n",
       "      <td>Hong Kong democracy activists call for return ...</td>\n",
       "      <td>Brexit: Iceland president says UK can join 'tr...</td>\n",
       "      <td>...</td>\n",
       "      <td>US, Canada and Mexico pledge 50% of power from...</td>\n",
       "      <td>There is increasing evidence that Australia is...</td>\n",
       "      <td>Richard Branson, the founder of Virgin Group, ...</td>\n",
       "      <td>37,000-yr-old skull from Borneo reveals surpri...</td>\n",
       "      <td>Palestinians stone Western Wall worshipers; po...</td>\n",
       "      <td>Jean-Claude Juncker asks Farage: Why are you h...</td>\n",
       "      <td>\"Romanians for Remainians\" offering a new home...</td>\n",
       "      <td>Brexit: Gibraltar in talks with Scotland to st...</td>\n",
       "      <td>8 Suicide Bombers Strike Lebanon</td>\n",
       "      <td>Mexico's security forces routinely use 'sexual...</td>\n",
       "    </tr>\n",
       "    <tr>\n",
       "      <th>1986</th>\n",
       "      <td>2016-06-29</td>\n",
       "      <td>1</td>\n",
       "      <td>Explosion At Airport In Istanbul</td>\n",
       "      <td>Yemeni former president: Terrorism is the offs...</td>\n",
       "      <td>UK must accept freedom of movement to access E...</td>\n",
       "      <td>Devastated: scientists too late to captive bre...</td>\n",
       "      <td>British Labor Party leader Jeremy Corbyn loses...</td>\n",
       "      <td>A Muslim Shop in the UK Was Just Firebombed Wh...</td>\n",
       "      <td>Mexican Authorities Sexually Torture Women in ...</td>\n",
       "      <td>UK shares and pound continue to recover</td>\n",
       "      <td>...</td>\n",
       "      <td>Escape Tunnel, Dug by Hand, Is Found at Holoca...</td>\n",
       "      <td>The land under Beijing is sinking by as much a...</td>\n",
       "      <td>Car bomb and Anti-Islamic attack on Mosque in ...</td>\n",
       "      <td>Emaciated lions in Taiz Zoo are trapped in blo...</td>\n",
       "      <td>Rupert Murdoch describes Brexit as 'wonderful'...</td>\n",
       "      <td>More than 40 killed in Yemen suicide attacks</td>\n",
       "      <td>Google Found Disastrous Symantec and Norton Vu...</td>\n",
       "      <td>Extremist violence on the rise in Germany: Dom...</td>\n",
       "      <td>BBC News: Labour MPs pass Corbyn no-confidence...</td>\n",
       "      <td>Tiny New Zealand town with 'too many jobs' lau...</td>\n",
       "    </tr>\n",
       "    <tr>\n",
       "      <th>1987</th>\n",
       "      <td>2016-06-30</td>\n",
       "      <td>1</td>\n",
       "      <td>Jamaica proposes marijuana dispensers for tour...</td>\n",
       "      <td>Stephen Hawking says pollution and 'stupidity'...</td>\n",
       "      <td>Boris Johnson says he will not run for Tory pa...</td>\n",
       "      <td>Six gay men in Ivory Coast were abused and for...</td>\n",
       "      <td>Switzerland denies citizenship to Muslim immig...</td>\n",
       "      <td>Palestinian terrorist stabs israeli teen girl ...</td>\n",
       "      <td>Puerto Rico will default on $1 billion of debt...</td>\n",
       "      <td>Republic of Ireland fans to be awarded medal f...</td>\n",
       "      <td>...</td>\n",
       "      <td>Googles free wifi at Indian railway stations i...</td>\n",
       "      <td>Mounting evidence suggests 'hobbits' were wipe...</td>\n",
       "      <td>The men who carried out Tuesday's terror attac...</td>\n",
       "      <td>Calls to suspend Saudi Arabia from UN Human Ri...</td>\n",
       "      <td>More Than 100 Nobel Laureates Call Out Greenpe...</td>\n",
       "      <td>British pedophile sentenced to 85 years in US ...</td>\n",
       "      <td>US permitted 1,200 offshore fracks in Gulf of ...</td>\n",
       "      <td>We will be swimming in ridicule - French beach...</td>\n",
       "      <td>UEFA says no minutes of silence for Istanbul v...</td>\n",
       "      <td>Law Enforcement Sources: Gun Used in Paris Ter...</td>\n",
       "    </tr>\n",
       "    <tr>\n",
       "      <th>1988</th>\n",
       "      <td>2016-07-01</td>\n",
       "      <td>1</td>\n",
       "      <td>A 117-year-old woman in Mexico City finally re...</td>\n",
       "      <td>IMF chief backs Athens as permanent Olympic host</td>\n",
       "      <td>The president of France says if Brexit won, so...</td>\n",
       "      <td>British Man Who Must Give Police 24 Hours' Not...</td>\n",
       "      <td>100+ Nobel laureates urge Greenpeace to stop o...</td>\n",
       "      <td>Brazil: Huge spike in number of police killing...</td>\n",
       "      <td>Austria's highest court annuls presidential el...</td>\n",
       "      <td>Facebook wins privacy case, can track any Belg...</td>\n",
       "      <td>...</td>\n",
       "      <td>The United States has placed Myanmar, Uzbekist...</td>\n",
       "      <td>S&amp;amp;P revises European Union credit rating t...</td>\n",
       "      <td>India gets $1 billion loan from World Bank for...</td>\n",
       "      <td>U.S. sailors detained by Iran spoke too much u...</td>\n",
       "      <td>Mass fish kill in Vietnam solved as Taiwan ste...</td>\n",
       "      <td>Philippines president Rodrigo Duterte urges pe...</td>\n",
       "      <td>Spain arrests three Pakistanis accused of prom...</td>\n",
       "      <td>Venezuela, where anger over food shortages is ...</td>\n",
       "      <td>A Hindu temple worker has been killed by three...</td>\n",
       "      <td>Ozone layer hole seems to be healing - US &amp;amp...</td>\n",
       "    </tr>\n",
       "  </tbody>\n",
       "</table>\n",
       "<p>1989 rows × 27 columns</p>\n",
       "</div>"
      ],
      "text/plain": [
       "            Date  Label                                               Top1  \\\n",
       "0     2008-08-08      0  b\"Georgia 'downs two Russian warplanes' as cou...   \n",
       "1     2008-08-11      1  b'Why wont America and Nato help us? If they w...   \n",
       "2     2008-08-12      0  b'Remember that adorable 9-year-old who sang a...   \n",
       "3     2008-08-13      0  b' U.S. refuses Israel weapons to attack Iran:...   \n",
       "4     2008-08-14      1  b'All the experts admit that we should legalis...   \n",
       "...          ...    ...                                                ...   \n",
       "1984  2016-06-27      0  Barclays and RBS shares suspended from trading...   \n",
       "1985  2016-06-28      1  2,500 Scientists To Australia: If You Want To ...   \n",
       "1986  2016-06-29      1                   Explosion At Airport In Istanbul   \n",
       "1987  2016-06-30      1  Jamaica proposes marijuana dispensers for tour...   \n",
       "1988  2016-07-01      1  A 117-year-old woman in Mexico City finally re...   \n",
       "\n",
       "                                                   Top2  \\\n",
       "0               b'BREAKING: Musharraf to be impeached.'   \n",
       "1           b'Bush puts foot down on Georgian conflict'   \n",
       "2                    b\"Russia 'ends Georgia operation'\"   \n",
       "3     b\"When the president ordered to attack Tskhinv...   \n",
       "4     b'War in South Osetia - 89 pictures made by a ...   \n",
       "...                                                 ...   \n",
       "1984  Pope says Church should ask forgiveness from g...   \n",
       "1985  The personal details of 112,000 French police ...   \n",
       "1986  Yemeni former president: Terrorism is the offs...   \n",
       "1987  Stephen Hawking says pollution and 'stupidity'...   \n",
       "1988   IMF chief backs Athens as permanent Olympic host   \n",
       "\n",
       "                                                   Top3  \\\n",
       "0     b'Russia Today: Columns of troops roll into So...   \n",
       "1     b\"Jewish Georgian minister: Thanks to Israeli ...   \n",
       "2     b'\"If we had no sexual harassment we would hav...   \n",
       "3     b' Israel clears troops who killed Reuters cam...   \n",
       "4     b'Swedish wrestler Ara Abrahamian throws away ...   \n",
       "...                                                 ...   \n",
       "1984  Poland 'shocked' by xenophobic abuse of Poles ...   \n",
       "1985  S&amp;P cuts United Kingdom sovereign credit r...   \n",
       "1986  UK must accept freedom of movement to access E...   \n",
       "1987  Boris Johnson says he will not run for Tory pa...   \n",
       "1988  The president of France says if Brexit won, so...   \n",
       "\n",
       "                                                   Top4  \\\n",
       "0     b'Russian tanks are moving towards the capital...   \n",
       "1     b'Georgian army flees in disarray as Russians ...   \n",
       "2     b\"Al-Qa'eda is losing support in Iraq because ...   \n",
       "3     b'Britain\\'s policy of being tough on drugs is...   \n",
       "4     b'Russia exaggerated the death toll in South O...   \n",
       "...                                                 ...   \n",
       "1984  There will be no second referendum, cabinet ag...   \n",
       "1985                Huge helium deposit found in Africa   \n",
       "1986  Devastated: scientists too late to captive bre...   \n",
       "1987  Six gay men in Ivory Coast were abused and for...   \n",
       "1988  British Man Who Must Give Police 24 Hours' Not...   \n",
       "\n",
       "                                                   Top5  \\\n",
       "0     b\"Afghan children raped with 'impunity,' U.N. ...   \n",
       "1         b\"Olympic opening ceremony fireworks 'faked'\"   \n",
       "2     b'Ceasefire in Georgia: Putin Outmaneuvers the...   \n",
       "3     b'Body of 14 year old found in trunk; Latest (...   \n",
       "4     b'Missile That Killed 9 Inside Pakistan May Ha...   \n",
       "...                                                 ...   \n",
       "1984      Scotland welcome to join EU, Merkel ally says   \n",
       "1985  CEO of the South African state broadcaster qui...   \n",
       "1986  British Labor Party leader Jeremy Corbyn loses...   \n",
       "1987  Switzerland denies citizenship to Muslim immig...   \n",
       "1988  100+ Nobel laureates urge Greenpeace to stop o...   \n",
       "\n",
       "                                                   Top6  \\\n",
       "0     b'150 Russian tanks have entered South Ossetia...   \n",
       "1     b'What were the Mossad with fraudulent New Zea...   \n",
       "2     b'Why Microsoft and Intel tried to kill the XO...   \n",
       "3     b'China has moved 10 *million* quake survivors...   \n",
       "4     b\"Rushdie Condemns Random House's Refusal to P...   \n",
       "...                                                 ...   \n",
       "1984  Sterling dips below Friday's 31-year low amid ...   \n",
       "1985  Brexit cost investors $2 trillion, the worst o...   \n",
       "1986  A Muslim Shop in the UK Was Just Firebombed Wh...   \n",
       "1987  Palestinian terrorist stabs israeli teen girl ...   \n",
       "1988  Brazil: Huge spike in number of police killing...   \n",
       "\n",
       "                                                   Top7  \\\n",
       "0     b\"Breaking: Georgia invades South Ossetia, Rus...   \n",
       "1     b'Russia angered by Israeli military sale to G...   \n",
       "2     b'Stratfor: The Russo-Georgian War and the Bal...   \n",
       "3     b\"Bush announces Operation Get All Up In Russi...   \n",
       "4     b'Poland and US agree to missle defense deal. ...   \n",
       "...                                                 ...   \n",
       "1984  No negative news about South African President...   \n",
       "1985  Hong Kong democracy activists call for return ...   \n",
       "1986  Mexican Authorities Sexually Torture Women in ...   \n",
       "1987  Puerto Rico will default on $1 billion of debt...   \n",
       "1988  Austria's highest court annuls presidential el...   \n",
       "\n",
       "                                                   Top8  ...  \\\n",
       "0     b\"The 'enemy combatent' trials are nothing but...  ...   \n",
       "1     b'An American citizen living in S.Ossetia blam...  ...   \n",
       "2     b\"I'm Trying to Get a Sense of This Whole Geor...  ...   \n",
       "3                b'Russian forces sink Georgian ships '  ...   \n",
       "4     b'Will the Russians conquer Tblisi? Bet on it,...  ...   \n",
       "...                                                 ...  ...   \n",
       "1984  Surge in Hate Crimes in the U.K. Following U.K...  ...   \n",
       "1985  Brexit: Iceland president says UK can join 'tr...  ...   \n",
       "1986            UK shares and pound continue to recover  ...   \n",
       "1987  Republic of Ireland fans to be awarded medal f...  ...   \n",
       "1988  Facebook wins privacy case, can track any Belg...  ...   \n",
       "\n",
       "                                                  Top16  \\\n",
       "0     b'Georgia Invades South Ossetia - if Russia ge...   \n",
       "1     b'Israel and the US behind the Georgian aggres...   \n",
       "2     b'U.S. troops still in Georgia (did you know t...   \n",
       "3                         b'Elephants extinct by 2020?'   \n",
       "4     b'Bank analyst forecast Georgian crisis 2 days...   \n",
       "...                                                 ...   \n",
       "1984  German lawyers to probe Erdogan over alleged w...   \n",
       "1985  US, Canada and Mexico pledge 50% of power from...   \n",
       "1986  Escape Tunnel, Dug by Hand, Is Found at Holoca...   \n",
       "1987  Googles free wifi at Indian railway stations i...   \n",
       "1988  The United States has placed Myanmar, Uzbekist...   \n",
       "\n",
       "                                                  Top17  \\\n",
       "0                   b'Al-Qaeda Faces Islamist Backlash'   \n",
       "1     b'\"Do not believe TV, neither Russian nor Geor...   \n",
       "2          b'Why Russias response to Georgia was right'   \n",
       "3     b'US humanitarian missions soon in Georgia - i...   \n",
       "4     b\"Georgia confict could set back Russia's US r...   \n",
       "...                                                 ...   \n",
       "1984  Boris Johnson says the UK will continue to \"in...   \n",
       "1985  There is increasing evidence that Australia is...   \n",
       "1986  The land under Beijing is sinking by as much a...   \n",
       "1987  Mounting evidence suggests 'hobbits' were wipe...   \n",
       "1988  S&amp;P revises European Union credit rating t...   \n",
       "\n",
       "                                                  Top18  \\\n",
       "0     b'Condoleezza Rice: \"The US would not act to p...   \n",
       "1     b'Riots are still going on in Montreal (Canada...   \n",
       "2     b'Gorbachev accuses U.S. of making a \"serious ...   \n",
       "3                b\"Georgia's DDOS came from US sources\"   \n",
       "4     b'War in the Caucasus is as much the product o...   \n",
       "...                                                 ...   \n",
       "1984  Richard Branson is calling on the UK governmen...   \n",
       "1985  Richard Branson, the founder of Virgin Group, ...   \n",
       "1986  Car bomb and Anti-Islamic attack on Mosque in ...   \n",
       "1987  The men who carried out Tuesday's terror attac...   \n",
       "1988  India gets $1 billion loan from World Bank for...   \n",
       "\n",
       "                                                  Top19  \\\n",
       "0     b'This is a busy day:  The European Union has ...   \n",
       "1       b'China to overtake US as largest manufacturer'   \n",
       "2            b'Russia, Georgia, and NATO: Cold War Two'   \n",
       "3     b'Russian convoy heads into Georgia, violating...   \n",
       "4     b'\"Non-media\" photos of South Ossetia/Georgia ...   \n",
       "...                                                 ...   \n",
       "1984             Turkey 'sorry for downing Russian jet'   \n",
       "1985  37,000-yr-old skull from Borneo reveals surpri...   \n",
       "1986  Emaciated lions in Taiz Zoo are trapped in blo...   \n",
       "1987  Calls to suspend Saudi Arabia from UN Human Ri...   \n",
       "1988  U.S. sailors detained by Iran spoke too much u...   \n",
       "\n",
       "                                                  Top20  \\\n",
       "0     b\"Georgia will withdraw 1,000 soldiers from Ir...   \n",
       "1                        b'War in South Ossetia [PICS]'   \n",
       "2     b'Remember that adorable 62-year-old who led y...   \n",
       "3     b'Israeli defence minister: US against strike ...   \n",
       "4     b'Georgian TV reporter shot by Russian sniper ...   \n",
       "...                                                 ...   \n",
       "1984  Edward Snowden lawyer vows new push for pardon...   \n",
       "1985  Palestinians stone Western Wall worshipers; po...   \n",
       "1986  Rupert Murdoch describes Brexit as 'wonderful'...   \n",
       "1987  More Than 100 Nobel Laureates Call Out Greenpe...   \n",
       "1988  Mass fish kill in Vietnam solved as Taiwan ste...   \n",
       "\n",
       "                                                  Top21  \\\n",
       "0     b'Why the Pentagon Thinks Attacking Iran is a ...   \n",
       "1     b'Israeli Physicians Group Condemns State Tort...   \n",
       "2             b'War in Georgia: The Israeli connection'   \n",
       "3                        b'Gorbachev: We Had No Choice'   \n",
       "4     b'Saudi Arabia: Mother moves to block child ma...   \n",
       "...                                                 ...   \n",
       "1984  Brexit opinion poll reveals majority don't wan...   \n",
       "1985  Jean-Claude Juncker asks Farage: Why are you h...   \n",
       "1986       More than 40 killed in Yemen suicide attacks   \n",
       "1987  British pedophile sentenced to 85 years in US ...   \n",
       "1988  Philippines president Rodrigo Duterte urges pe...   \n",
       "\n",
       "                                                  Top22  \\\n",
       "0     b'Caucasus in crisis: Georgia invades South Os...   \n",
       "1     b' Russia has just beaten the United States ov...   \n",
       "2     b'All signs point to the US encouraging Georgi...   \n",
       "3     b'Witness: Russian forces head towards Tbilisi...   \n",
       "4      b'Taliban wages war on humanitarian aid workers'   \n",
       "...                                                 ...   \n",
       "1984  Conservative MP Leave Campaigner: \"The leave c...   \n",
       "1985  \"Romanians for Remainians\" offering a new home...   \n",
       "1986  Google Found Disastrous Symantec and Norton Vu...   \n",
       "1987  US permitted 1,200 offshore fracks in Gulf of ...   \n",
       "1988  Spain arrests three Pakistanis accused of prom...   \n",
       "\n",
       "                                                  Top23  \\\n",
       "0     b'Indian shoe manufactory  - And again in a se...   \n",
       "1     b'Perhaps *the* question about the Georgia - R...   \n",
       "2     b'Christopher King argues that the US and NATO...   \n",
       "3     b' Quarter of Russians blame U.S. for conflict...   \n",
       "4     b'Russia: World  \"can forget about\" Georgia\\'s...   \n",
       "...                                                 ...   \n",
       "1984  Economists predict UK recession, further weake...   \n",
       "1985  Brexit: Gibraltar in talks with Scotland to st...   \n",
       "1986  Extremist violence on the rise in Germany: Dom...   \n",
       "1987  We will be swimming in ridicule - French beach...   \n",
       "1988  Venezuela, where anger over food shortages is ...   \n",
       "\n",
       "                                                  Top24  \\\n",
       "0     b'Visitors Suffering from Mental Illnesses Ban...   \n",
       "1                    b'Russia is so much better at war'   \n",
       "2                           b'America: The New Mexico?'   \n",
       "3     b'Georgian president  says US military will ta...   \n",
       "4     b'Darfur rebels accuse Sudan of mounting major...   \n",
       "...                                                 ...   \n",
       "1984  New EU 'superstate plan by France, Germany: Cr...   \n",
       "1985                   8 Suicide Bombers Strike Lebanon   \n",
       "1986  BBC News: Labour MPs pass Corbyn no-confidence...   \n",
       "1987  UEFA says no minutes of silence for Istanbul v...   \n",
       "1988  A Hindu temple worker has been killed by three...   \n",
       "\n",
       "                                                  Top25  \n",
       "0              b\"No Help for Mexico's Kidnapping Surge\"  \n",
       "1     b\"So this is what it's come to: trading sex fo...  \n",
       "2     b\"BBC NEWS | Asia-Pacific | Extinction 'by man...  \n",
       "3     b'2006: Nobel laureate Aleksander Solzhenitsyn...  \n",
       "4     b'Philippines : Peace Advocate say Muslims nee...  \n",
       "...                                                 ...  \n",
       "1984  Pakistani clerics declare transgender marriage...  \n",
       "1985  Mexico's security forces routinely use 'sexual...  \n",
       "1986  Tiny New Zealand town with 'too many jobs' lau...  \n",
       "1987  Law Enforcement Sources: Gun Used in Paris Ter...  \n",
       "1988  Ozone layer hole seems to be healing - US &amp...  \n",
       "\n",
       "[1989 rows x 27 columns]"
      ]
     },
     "execution_count": 4,
     "metadata": {},
     "output_type": "execute_result"
    }
   ],
   "source": [
    "df"
   ]
  },
  {
   "cell_type": "markdown",
   "id": "AIAKjp8UPmzY",
   "metadata": {
    "id": "AIAKjp8UPmzY"
   },
   "source": [
    "# **DATA CLEANING**"
   ]
  },
  {
   "cell_type": "markdown",
   "id": "OwFHxdG1P7ZC",
   "metadata": {
    "id": "OwFHxdG1P7ZC"
   },
   "source": [
    "Data cleaning involves removal of duplicates, null values and empty strings. It also includes removal of incorrect and wrongly formatted data"
   ]
  },
  {
   "cell_type": "code",
   "execution_count": 5,
   "id": "q2q7mBrqQbIi",
   "metadata": {
    "colab": {
     "base_uri": "https://localhost:8080/"
    },
    "id": "q2q7mBrqQbIi",
    "outputId": "55b4b69b-1329-438f-f90e-3351c41944d5"
   },
   "outputs": [
    {
     "name": "stdout",
     "output_type": "stream",
     "text": [
      "Length before removal of duplicates : 1989\n"
     ]
    }
   ],
   "source": [
    "print(\"Length before removal of duplicates : \" + str(len(df)))"
   ]
  },
  {
   "cell_type": "code",
   "execution_count": 6,
   "id": "ComlFPkbPtFk",
   "metadata": {
    "id": "ComlFPkbPtFk"
   },
   "outputs": [],
   "source": [
    "df.drop_duplicates(inplace = True) # Removing duplicates to prevent model overfitting later"
   ]
  },
  {
   "cell_type": "code",
   "execution_count": 7,
   "id": "wBEzKj2IQvxM",
   "metadata": {
    "colab": {
     "base_uri": "https://localhost:8080/"
    },
    "id": "wBEzKj2IQvxM",
    "outputId": "9fc87282-ca37-43d2-bb2e-6b02fdb12e97"
   },
   "outputs": [
    {
     "name": "stdout",
     "output_type": "stream",
     "text": [
      "Length after removal of duplicates : 1989\n"
     ]
    }
   ],
   "source": [
    "print(\"Length after removal of duplicates : \" + str(len(df)))"
   ]
  },
  {
   "cell_type": "code",
   "execution_count": 8,
   "id": "Df8TwbYcTfHc",
   "metadata": {
    "colab": {
     "base_uri": "https://localhost:8080/"
    },
    "id": "Df8TwbYcTfHc",
    "outputId": "2b6e47db-5c9e-4e68-a939-19c9d3866937"
   },
   "outputs": [
    {
     "data": {
      "text/plain": [
       "Date     0\n",
       "Label    0\n",
       "Top1     0\n",
       "Top2     0\n",
       "Top3     0\n",
       "Top4     0\n",
       "Top5     0\n",
       "Top6     0\n",
       "Top7     0\n",
       "Top8     0\n",
       "Top9     0\n",
       "Top10    0\n",
       "Top11    0\n",
       "Top12    0\n",
       "Top13    0\n",
       "Top14    0\n",
       "Top15    0\n",
       "Top16    0\n",
       "Top17    0\n",
       "Top18    0\n",
       "Top19    0\n",
       "Top20    0\n",
       "Top21    0\n",
       "Top22    0\n",
       "Top23    1\n",
       "Top24    3\n",
       "Top25    3\n",
       "dtype: int64"
      ]
     },
     "execution_count": 8,
     "metadata": {},
     "output_type": "execute_result"
    }
   ],
   "source": [
    "df.isnull().sum() # checking for null values"
   ]
  },
  {
   "cell_type": "code",
   "execution_count": 9,
   "id": "dd41a835",
   "metadata": {
    "id": "dd41a835"
   },
   "outputs": [],
   "source": [
    "df.dropna(inplace = True) # Remove missing values and Keep the DataFrame with valid entries in the same variable."
   ]
  },
  {
   "cell_type": "code",
   "execution_count": 10,
   "id": "TTcW8JtNQ1c0",
   "metadata": {
    "colab": {
     "base_uri": "https://localhost:8080/"
    },
    "id": "TTcW8JtNQ1c0",
    "outputId": "d75b8c4f-6a6e-4bc0-e370-88426118ed7f"
   },
   "outputs": [
    {
     "name": "stdout",
     "output_type": "stream",
     "text": [
      "Length after removal of null values : 1986\n"
     ]
    }
   ],
   "source": [
    "print(\"Length after removal of null values : \" + str(len(df)))"
   ]
  },
  {
   "cell_type": "code",
   "execution_count": 11,
   "id": "UG39ZV_QTmQP",
   "metadata": {
    "colab": {
     "base_uri": "https://localhost:8080/"
    },
    "id": "UG39ZV_QTmQP",
    "outputId": "37de8c59-bf11-4fc1-f905-302b2581fcce"
   },
   "outputs": [
    {
     "data": {
      "text/plain": [
       "Date     0\n",
       "Label    0\n",
       "Top1     0\n",
       "Top2     0\n",
       "Top3     0\n",
       "Top4     0\n",
       "Top5     0\n",
       "Top6     0\n",
       "Top7     0\n",
       "Top8     0\n",
       "Top9     0\n",
       "Top10    0\n",
       "Top11    0\n",
       "Top12    0\n",
       "Top13    0\n",
       "Top14    0\n",
       "Top15    0\n",
       "Top16    0\n",
       "Top17    0\n",
       "Top18    0\n",
       "Top19    0\n",
       "Top20    0\n",
       "Top21    0\n",
       "Top22    0\n",
       "Top23    0\n",
       "Top24    0\n",
       "Top25    0\n",
       "dtype: int64"
      ]
     },
     "execution_count": 11,
     "metadata": {},
     "output_type": "execute_result"
    }
   ],
   "source": [
    "df.isnull().sum() # check for null values again"
   ]
  },
  {
   "cell_type": "markdown",
   "id": "ptND29jqUJTu",
   "metadata": {
    "id": "ptND29jqUJTu"
   },
   "source": [
    "# **DATA PRESENTATION**"
   ]
  },
  {
   "cell_type": "code",
   "execution_count": 12,
   "id": "c83f48a5",
   "metadata": {
    "id": "c83f48a5"
   },
   "outputs": [
    {
     "data": {
      "image/png": "[encoded data removed]",
      "text/plain": [
       "<Figure size 1000x200 with 1 Axes>"
      ]
     },
     "metadata": {},
     "output_type": "display_data"
    }
   ],
   "source": [
    "# data visualization by plotting the counts of each label\n",
    "plt.figure(dpi=100,figsize=(10,2))\n",
    "sns.countplot(data=df,y='Label')\n",
    "plt.xlabel('Number of Datapoints')\n",
    "plt.ylabel('Stock sentiments')\n",
    "plt.yticks([0, 1], ['Stock price remains same or goes down', 'Stock price goes up'])\n",
    "plt.show()"
   ]
  },
  {
   "cell_type": "code",
   "execution_count": 13,
   "id": "HJqEjf3OUZwc",
   "metadata": {
    "id": "HJqEjf3OUZwc"
   },
   "outputs": [],
   "source": [
    "top1_lengths = [len(i) for i in list(df['Top1'])]\n",
    "top2_lengths = [len(i) for i in list(df['Top2'])]\n",
    "top3_lengths = [len(i) for i in list(df['Top3'])]\n",
    "top4_lengths = [len(i) for i in list(df['Top4'])]\n",
    "top5_lengths = [len(i) for i in list(df['Top5'])]\n",
    "top6_lengths = [len(i) for i in list(df['Top6'])]\n",
    "top7_lengths = [len(i) for i in list(df['Top7'])]\n",
    "top8_lengths = [len(i) for i in list(df['Top8'])]\n",
    "top9_lengths = [len(i) for i in list(df['Top9'])]\n",
    "top10_lengths = [len(i) for i in list(df['Top10'])]\n",
    "top11_lengths = [len(i) for i in list(df['Top11'])]\n",
    "top12_lengths = [len(i) for i in list(df['Top12'])]\n",
    "top13_lengths = [len(i) for i in list(df['Top13'])]\n",
    "top14_lengths = [len(i) for i in list(df['Top14'])]\n",
    "top15_lengths = [len(i) for i in list(df['Top15'])]\n",
    "top16_lengths = [len(i) for i in list(df['Top16'])]\n",
    "top17_lengths = [len(i) for i in list(df['Top17'])]\n",
    "top18_lengths = [len(i) for i in list(df['Top18'])]\n",
    "top19_lengths = [len(i) for i in list(df['Top19'])]\n",
    "top20_lengths = [len(i) for i in list(df['Top20'])]\n",
    "top21_lengths = [len(i) for i in list(df['Top21'])]\n",
    "top22_lengths = [len(i) for i in list(df['Top22'])]\n",
    "top23_lengths = [len(i) for i in list(df['Top23'])]\n",
    "top24_lengths = [len(i) for i in list(df['Top24'])]\n",
    "top25_lengths = [len(i) for i in list(df['Top25'])]\n",
    "lengths = [top1_lengths, top2_lengths, top3_lengths, top4_lengths, top5_lengths, top6_lengths, top7_lengths, top8_lengths, top9_lengths, top10_lengths,\n",
    "           top11_lengths, top12_lengths, top13_lengths, top14_lengths, top15_lengths, top16_lengths, top17_lengths, top18_lengths, top19_lengths, top20_lengths,\n",
    "           top21_lengths, top22_lengths, top23_lengths, top24_lengths, top25_lengths]"
   ]
  },
  {
   "cell_type": "code",
   "execution_count": 14,
   "id": "vXLoB0JyVh1w",
   "metadata": {
    "id": "vXLoB0JyVh1w"
   },
   "outputs": [
    {
     "data": {
      "image/png": "[encoded data removed]",
      "text/plain": [
       "<Figure size 2500x500 with 1 Axes>"
      ]
     },
     "metadata": {},
     "output_type": "display_data"
    }
   ],
   "source": [
    "x = []\n",
    "for i in range(25):\n",
    "  x.append(\"Top\" + str(i+1))\n",
    "y = [sum(i)/len(i) for i in lengths]\n",
    "fig = plt.figure(figsize = (25, 5))\n",
    "plt.bar(x, y, color ='maroon')\n",
    "plt.show()\n",
    "\n",
    "# checking the lengths of the headlines to see whether any specific headline has more impact on the output labels\n",
    "# if not the top 25 headlines can be merged into a single one before training the model"
   ]
  },
  {
   "cell_type": "code",
   "execution_count": 15,
   "id": "y-IoZUOBYUJL",
   "metadata": {
    "id": "y-IoZUOBYUJL"
   },
   "outputs": [],
   "source": [
    "# Deleting all extra variables created for visualization (for freeing memory)\n",
    "del top1_lengths \n",
    "del top2_lengths \n",
    "del top3_lengths \n",
    "del top4_lengths \n",
    "del top5_lengths \n",
    "del top6_lengths \n",
    "del top7_lengths \n",
    "del top8_lengths \n",
    "del top9_lengths \n",
    "del top10_lengths \n",
    "del top11_lengths \n",
    "del top12_lengths \n",
    "del top13_lengths \n",
    "del top14_lengths \n",
    "del top15_lengths \n",
    "del top16_lengths \n",
    "del top17_lengths \n",
    "del top18_lengths \n",
    "del top19_lengths \n",
    "del top20_lengths \n",
    "del top21_lengths \n",
    "del top22_lengths \n",
    "del top23_lengths \n",
    "del top24_lengths \n",
    "del top25_lengths \n",
    "del lengths"
   ]
  },
  {
   "cell_type": "markdown",
   "id": "xIp68QH3aBe3",
   "metadata": {
    "id": "xIp68QH3aBe3"
   },
   "source": [
    "CONCLUSION : 1st graph concludes that data is balanced and the 2nd graph reveals that the 25 different different columns can be merged into a single one"
   ]
  },
  {
   "cell_type": "markdown",
   "id": "qjMQPcroavOL",
   "metadata": {
    "id": "qjMQPcroavOL"
   },
   "source": [
    "# **DATA PREPROCESSING**"
   ]
  },
  {
   "cell_type": "code",
   "execution_count": 16,
   "id": "fjiZ73J9cPMO",
   "metadata": {
    "id": "fjiZ73J9cPMO"
   },
   "outputs": [],
   "source": [
    "df['headlines'] = df[df.columns[2:]].apply(lambda x: ','.join(x.dropna().astype(str)), axis=1)\n",
    "\n",
    "# combining all the top25 headlines into one"
   ]
  },
  {
   "cell_type": "code",
   "execution_count": 17,
   "id": "otLqgzIedBwC",
   "metadata": {
    "colab": {
     "base_uri": "https://localhost:8080/"
    },
    "id": "otLqgzIedBwC",
    "outputId": "ba488121-1eb8-4745-9b29-8b015c618cf2"
   },
   "outputs": [
    {
     "data": {
      "text/plain": [
       "0       b\"Georgia 'downs two Russian warplanes' as cou...\n",
       "1       b'Why wont America and Nato help us? If they w...\n",
       "2       b'Remember that adorable 9-year-old who sang a...\n",
       "3       b' U.S. refuses Israel weapons to attack Iran:...\n",
       "4       b'All the experts admit that we should legalis...\n",
       "                              ...                        \n",
       "1984    Barclays and RBS shares suspended from trading...\n",
       "1985    2,500 Scientists To Australia: If You Want To ...\n",
       "1986    Explosion At Airport In Istanbul,Yemeni former...\n",
       "1987    Jamaica proposes marijuana dispensers for tour...\n",
       "1988    A 117-year-old woman in Mexico City finally re...\n",
       "Name: headlines, Length: 1986, dtype: object"
      ]
     },
     "execution_count": 17,
     "metadata": {},
     "output_type": "execute_result"
    }
   ],
   "source": [
    "df['headlines']"
   ]
  },
  {
   "cell_type": "markdown",
   "id": "O7zIE__a2ojn",
   "metadata": {
    "id": "O7zIE__a2ojn"
   },
   "source": [
    "## Stop Word Removal"
   ]
  },
  {
   "cell_type": "code",
   "execution_count": 18,
   "id": "7F3V2S-Z44CE",
   "metadata": {
    "colab": {
     "base_uri": "https://localhost:8080/"
    },
    "id": "7F3V2S-Z44CE",
    "outputId": "4e91421d-9be8-4b07-a568-62f8af3e3727"
   },
   "outputs": [
    {
     "name": "stdout",
     "output_type": "stream",
     "text": [
      "['i', 'me', 'my', 'myself', 'we', 'our', 'ours', 'ourselves', 'you', \"you're\", \"you've\", \"you'll\", \"you'd\", 'your', 'yours', 'yourself', 'yourselves', 'he', 'him', 'his', 'himself', 'she', \"she's\", 'her', 'hers', 'herself', 'it', \"it's\", 'its', 'itself', 'they', 'them', 'their', 'theirs', 'themselves', 'what', 'which', 'who', 'whom', 'this', 'that', \"that'll\", 'these', 'those', 'am', 'is', 'are', 'was', 'were', 'be', 'been', 'being', 'have', 'has', 'had', 'having', 'do', 'does', 'did', 'doing', 'a', 'an', 'the', 'and', 'but', 'if', 'or', 'because', 'as', 'until', 'while', 'of', 'at', 'by', 'for', 'with', 'about', 'against', 'between', 'into', 'through', 'during', 'before', 'after', 'above', 'below', 'to', 'from', 'up', 'down', 'in', 'out', 'on', 'off', 'over', 'under', 'again', 'further', 'then', 'once', 'here', 'there', 'when', 'where', 'why', 'how', 'all', 'any', 'both', 'each', 'few', 'more', 'most', 'other', 'some', 'such', 'no', 'nor', 'not', 'only', 'own', 'same', 'so', 'than', 'too', 'very', 's', 't', 'can', 'will', 'just', 'don', \"don't\", 'should', \"should've\", 'now', 'd', 'll', 'm', 'o', 're', 've', 'y', 'ain', 'aren', \"aren't\", 'couldn', \"couldn't\", 'didn', \"didn't\", 'doesn', \"doesn't\", 'hadn', \"hadn't\", 'hasn', \"hasn't\", 'haven', \"haven't\", 'isn', \"isn't\", 'ma', 'mightn', \"mightn't\", 'mustn', \"mustn't\", 'needn', \"needn't\", 'shan', \"shan't\", 'shouldn', \"shouldn't\", 'wasn', \"wasn't\", 'weren', \"weren't\", 'won', \"won't\", 'wouldn', \"wouldn't\"]\n"
     ]
    }
   ],
   "source": [
    "print(stopwords.words('english'))"
   ]
  },
  {
   "cell_type": "code",
   "execution_count": 19,
   "id": "evcBLeZp2tHl",
   "metadata": {
    "id": "evcBLeZp2tHl"
   },
   "outputs": [],
   "source": [
    "def remove_stop_words(text):\n",
    "  words = text.split()\n",
    "  cleaned =  [word for word in words if word not in stopwords.words('english')]\n",
    "  return ' '.join(cleaned)"
   ]
  },
  {
   "cell_type": "code",
   "execution_count": 20,
   "id": "r5rNlPBo3eB6",
   "metadata": {
    "id": "r5rNlPBo3eB6"
   },
   "outputs": [],
   "source": [
    "df['headlines'] = df['headlines'].apply(lambda x: remove_stop_words(x))"
   ]
  },
  {
   "cell_type": "markdown",
   "id": "uCeJ_2afs6V5",
   "metadata": {
    "id": "uCeJ_2afs6V5"
   },
   "source": [
    "## General cleaning"
   ]
  },
  {
   "cell_type": "code",
   "execution_count": 21,
   "id": "MJpvv33bRaP6",
   "metadata": {
    "id": "MJpvv33bRaP6"
   },
   "outputs": [],
   "source": [
    "def replace_hyphen_with_space(text):\n",
    "  return text.replace(\"-\", \" \")\n",
    "\n",
    "def decode_byte_string(text):\n",
    "  # return text.decode('ASCII')\n",
    "  text = text.replace('b\"', \"\")\n",
    "  return text.replace(\"b'\", \"\")\n",
    "\n",
    "def remove_punctuation(text):\n",
    "  return ''.join([words for words in text if words not in string.punctuation])\n",
    "\n",
    "def remove_urls(text):\n",
    "  return re.sub('http://\\S+|https://\\S+', '', text)\n",
    "\n",
    "def remove_newlines(text):\n",
    "  return text.replace('\\n', ' ')\n",
    "\n",
    "def remove_multispace(text):\n",
    "  return re.sub(' +', ' ', text)\n",
    "\n",
    "def strip_sentences(text):\n",
    "  return text.strip()\n"
   ]
  },
  {
   "cell_type": "code",
   "execution_count": 22,
   "id": "IAH9nLlgi3rI",
   "metadata": {
    "colab": {
     "base_uri": "https://localhost:8080/"
    },
    "id": "IAH9nLlgi3rI",
    "outputId": "fa043462-8ae1-443e-97ca-7402c699a20c"
   },
   "outputs": [
    {
     "data": {
      "text/plain": [
       "0       georgia downs two russian warplanes countries ...\n",
       "1       why wont america nato help us if wont help us ...\n",
       "2       remember adorable 9 year old sang opening cere...\n",
       "3       us refuses israel weapons attack iran reportwh...\n",
       "4       all experts admit legalise drugs war south ose...\n",
       "                              ...                        \n",
       "1984    barclays rbs shares suspended trading tanking ...\n",
       "1985    2500 scientists to australia if you want to sa...\n",
       "1986    explosion at airport in istanbulyemeni former ...\n",
       "1987    jamaica proposes marijuana dispensers tourists...\n",
       "1988    a 117 year old woman mexico city finally recei...\n",
       "Name: headlines, Length: 1986, dtype: object"
      ]
     },
     "execution_count": 22,
     "metadata": {},
     "output_type": "execute_result"
    }
   ],
   "source": [
    "df['headlines'] = df['headlines'].apply(lambda x: x.lower()) # Lowercasing data\n",
    "df['headlines'] = df['headlines'].apply(lambda x: decode_byte_string(x)) # Decoding byte strings\n",
    "df['headlines'] = df['headlines'].apply(lambda x: remove_urls(x)) # Removing urls from the headlines before removing punctuations\n",
    "df['headlines'] = df['headlines'].apply(lambda x: replace_hyphen_with_space(x)) # Converting - to space\n",
    "df['headlines'] = df['headlines'].apply(lambda x: remove_punctuation(x)) # Removing punctuations from the sentences\n",
    "df['headlines'] = df['headlines'].apply(lambda x: remove_newlines(x)) # Replacing newline with space\n",
    "df['headlines'] = df['headlines'].apply(lambda x: remove_multispace(x)) # Replacing multispaces with single space\n",
    "df['headlines'] = df['headlines'].apply(lambda x: strip_sentences(x)) # Stripping sentences to remove starting and trailing spaces\n",
    "df['headlines']"
   ]
  },
  {
   "cell_type": "code",
   "execution_count": 23,
   "id": "7k_bjc-VsERI",
   "metadata": {
    "colab": {
     "base_uri": "https://localhost:8080/"
    },
    "id": "7k_bjc-VsERI",
    "outputId": "0ad20485-0b42-4206-d7de-5edea3922af9"
   },
   "outputs": [
    {
     "data": {
      "text/plain": [
       "0       georgia downs two russian warplanes countries ...\n",
       "1       why wont america nato help us if wont help us ...\n",
       "2       remember adorable 9 year old sang opening cere...\n",
       "3       us refuses israel weapons attack iran reportwh...\n",
       "4       all experts admit legalise drugs war south ose...\n",
       "                              ...                        \n",
       "1984    barclays rbs shares suspended trading tanking ...\n",
       "1985    2500 scientists to australia if you want to sa...\n",
       "1986    explosion at airport in istanbulyemeni former ...\n",
       "1987    jamaica proposes marijuana dispensers tourists...\n",
       "1988    a 117 year old woman mexico city finally recei...\n",
       "Name: headlines, Length: 1986, dtype: object"
      ]
     },
     "execution_count": 23,
     "metadata": {},
     "output_type": "execute_result"
    }
   ],
   "source": [
    "df['headlines'].replace('', np.nan, inplace=True)\n",
    "df['headlines']"
   ]
  },
  {
   "cell_type": "code",
   "execution_count": 24,
   "id": "bb4xtvdusUhj",
   "metadata": {
    "colab": {
     "base_uri": "https://localhost:8080/"
    },
    "id": "bb4xtvdusUhj",
    "outputId": "879c4ac2-9163-4772-b312-2952f4afac4b"
   },
   "outputs": [
    {
     "data": {
      "text/plain": [
       "Date         0\n",
       "Label        0\n",
       "Top1         0\n",
       "Top2         0\n",
       "Top3         0\n",
       "Top4         0\n",
       "Top5         0\n",
       "Top6         0\n",
       "Top7         0\n",
       "Top8         0\n",
       "Top9         0\n",
       "Top10        0\n",
       "Top11        0\n",
       "Top12        0\n",
       "Top13        0\n",
       "Top14        0\n",
       "Top15        0\n",
       "Top16        0\n",
       "Top17        0\n",
       "Top18        0\n",
       "Top19        0\n",
       "Top20        0\n",
       "Top21        0\n",
       "Top22        0\n",
       "Top23        0\n",
       "Top24        0\n",
       "Top25        0\n",
       "headlines    0\n",
       "dtype: int64"
      ]
     },
     "execution_count": 24,
     "metadata": {},
     "output_type": "execute_result"
    }
   ],
   "source": [
    "df.isnull().sum()"
   ]
  },
  {
   "cell_type": "code",
   "execution_count": 25,
   "id": "NgMa2040sxOU",
   "metadata": {
    "id": "NgMa2040sxOU"
   },
   "outputs": [],
   "source": [
    "df.dropna(inplace = True)"
   ]
  },
  {
   "cell_type": "code",
   "execution_count": 26,
   "id": "SWy8i2GVRe4I",
   "metadata": {
    "colab": {
     "base_uri": "https://localhost:8080/"
    },
    "id": "SWy8i2GVRe4I",
    "outputId": "c4173818-cd10-40df-a899-8d3b5789ee9b"
   },
   "outputs": [
    {
     "name": "stdout",
     "output_type": "stream",
     "text": [
      "Length after preliminary cleaning : 1986\n"
     ]
    }
   ],
   "source": [
    "print(\"Length after preliminary cleaning : \" + str(len(df)))"
   ]
  },
  {
   "cell_type": "markdown",
   "id": "QABNWWXy69Ci",
   "metadata": {
    "id": "QABNWWXy69Ci"
   },
   "source": [
    "## Stemming and Lemmatization (run any of the 4 sub modules)"
   ]
  },
  {
   "cell_type": "code",
   "execution_count": 27,
   "id": "E50B2E9Luhqa",
   "metadata": {
    "id": "E50B2E9Luhqa"
   },
   "outputs": [],
   "source": [
    "def lemmatize_data(text, lemmatizer):\n",
    "  words = text.split()\n",
    "  lemmatized = [lemmatizer.lemmatize(str(word)) for word in words]\n",
    "  return ' '.join(lemmatized)"
   ]
  },
  {
   "cell_type": "code",
   "execution_count": 28,
   "id": "KSrEN_As6uDM",
   "metadata": {
    "id": "KSrEN_As6uDM"
   },
   "outputs": [],
   "source": [
    "def stemming(text, stemmer):\n",
    "  words = text.split()\n",
    "  stemmed= [stemmer.stem(word) for word in words]\n",
    "  return ' '.join(stemmed)"
   ]
  },
  {
   "cell_type": "markdown",
   "id": "zs4hKRGrtApM",
   "metadata": {
    "id": "zs4hKRGrtApM"
   },
   "source": [
    "### **Only Lemmatization**"
   ]
  },
  {
   "cell_type": "code",
   "execution_count": 29,
   "id": "qB_mA2wRuAXp",
   "metadata": {
    "id": "qB_mA2wRuAXp"
   },
   "outputs": [],
   "source": [
    "lemmatizer = WordNetLemmatizer()"
   ]
  },
  {
   "cell_type": "code",
   "execution_count": 30,
   "id": "eSw3vLtj2UDB",
   "metadata": {
    "id": "eSw3vLtj2UDB"
   },
   "outputs": [],
   "source": [
    "df['headlines'] = df['headlines'].apply(lambda x: lemmatize_data(x, lemmatizer))"
   ]
  },
  {
   "cell_type": "markdown",
   "id": "SWsP1gjw6uDE",
   "metadata": {
    "id": "SWsP1gjw6uDE"
   },
   "source": [
    "### **Only Stemming**"
   ]
  },
  {
   "cell_type": "code",
   "execution_count": 31,
   "id": "yblftarI6uDM",
   "metadata": {
    "id": "yblftarI6uDM"
   },
   "outputs": [],
   "source": [
    "porter_stemmer = PorterStemmer()"
   ]
  },
  {
   "cell_type": "code",
   "execution_count": 32,
   "id": "Sa9M7Dyo6uDM",
   "metadata": {
    "id": "Sa9M7Dyo6uDM"
   },
   "outputs": [],
   "source": [
    "df['headlines'] = df['headlines'].apply(lambda x: stemming(x, porter_stemmer))"
   ]
  },
  {
   "cell_type": "markdown",
   "id": "Dza2r3ya6xgn",
   "metadata": {
    "id": "Dza2r3ya6xgn"
   },
   "source": [
    "### **Stemming then Lemmatization**"
   ]
  },
  {
   "cell_type": "code",
   "execution_count": 33,
   "id": "DTeUF18_8Ttt",
   "metadata": {
    "id": "DTeUF18_8Ttt"
   },
   "outputs": [],
   "source": [
    "porter_stemmer = PorterStemmer()"
   ]
  },
  {
   "cell_type": "code",
   "execution_count": 34,
   "id": "QkRmzMwA8Tt1",
   "metadata": {
    "id": "QkRmzMwA8Tt1"
   },
   "outputs": [],
   "source": [
    "df['headlines'] = df['headlines'].apply(lambda x: stemming(x, porter_stemmer))"
   ]
  },
  {
   "cell_type": "code",
   "execution_count": 35,
   "id": "9P6m1hro8cad",
   "metadata": {
    "id": "9P6m1hro8cad"
   },
   "outputs": [],
   "source": [
    "lemmatizer = WordNetLemmatizer()"
   ]
  },
  {
   "cell_type": "code",
   "execution_count": 36,
   "id": "K9hf8K9G8cad",
   "metadata": {
    "id": "K9hf8K9G8cad"
   },
   "outputs": [],
   "source": [
    "df['headlines'] = df['headlines'].apply(lambda x: lemmatize_data(x, lemmatizer))"
   ]
  },
  {
   "cell_type": "markdown",
   "id": "LEH6fed-63LW",
   "metadata": {
    "id": "LEH6fed-63LW"
   },
   "source": [
    "### **Lemmatization then Stemming**"
   ]
  },
  {
   "cell_type": "code",
   "execution_count": 37,
   "id": "3dIV1HHk8fw6",
   "metadata": {
    "id": "3dIV1HHk8fw6"
   },
   "outputs": [],
   "source": [
    "lemmatizer = WordNetLemmatizer()"
   ]
  },
  {
   "cell_type": "code",
   "execution_count": 38,
   "id": "RCa6AM408fw7",
   "metadata": {
    "id": "RCa6AM408fw7"
   },
   "outputs": [],
   "source": [
    "df['headlines'] = df['headlines'].apply(lambda x: lemmatize_data(x, lemmatizer))"
   ]
  },
  {
   "cell_type": "code",
   "execution_count": 39,
   "id": "atJIlSeS8ica",
   "metadata": {
    "id": "atJIlSeS8ica"
   },
   "outputs": [],
   "source": [
    "porter_stemmer = PorterStemmer()"
   ]
  },
  {
   "cell_type": "code",
   "execution_count": 40,
   "id": "nCdIeAwY8ica",
   "metadata": {
    "id": "nCdIeAwY8ica"
   },
   "outputs": [],
   "source": [
    "df['headlines'] = df['headlines'].apply(lambda x: stemming(x, porter_stemmer))"
   ]
  },
  {
   "cell_type": "markdown",
   "id": "UmyBDCQ0Ia-9",
   "metadata": {
    "id": "UmyBDCQ0Ia-9"
   },
   "source": [
    "# **TRAIN - TEST SPLIT**"
   ]
  },
  {
   "cell_type": "code",
   "execution_count": 41,
   "id": "29fb2642",
   "metadata": {
    "id": "29fb2642"
   },
   "outputs": [],
   "source": [
    "train_data = df[df['Date'] < '20150101']\n",
    "test_data = df[df['Date'] > '20141231']"
   ]
  },
  {
   "cell_type": "code",
   "execution_count": 42,
   "id": "ffa11950",
   "metadata": {
    "colab": {
     "base_uri": "https://localhost:8080/"
    },
    "id": "ffa11950",
    "outputId": "6d4f6142-7533-46a8-857d-6df108e5c880"
   },
   "outputs": [
    {
     "data": {
      "text/plain": [
       "(1860, 28)"
      ]
     },
     "execution_count": 42,
     "metadata": {},
     "output_type": "execute_result"
    }
   ],
   "source": [
    "train_data.shape"
   ]
  },
  {
   "cell_type": "code",
   "execution_count": 43,
   "id": "21637ab2",
   "metadata": {
    "colab": {
     "base_uri": "https://localhost:8080/"
    },
    "id": "21637ab2",
    "outputId": "3992fa7e-2777-436c-ed89-777adc01f425"
   },
   "outputs": [
    {
     "data": {
      "text/plain": [
       "(378, 28)"
      ]
     },
     "execution_count": 43,
     "metadata": {},
     "output_type": "execute_result"
    }
   ],
   "source": [
    "test_data.shape"
   ]
  },
  {
   "cell_type": "markdown",
   "id": "Ra4mohWW5E8l",
   "metadata": {
    "id": "Ra4mohWW5E8l"
   },
   "source": [
    "# **VECTORIZATION**"
   ]
  },
  {
   "cell_type": "code",
   "execution_count": 44,
   "id": "OGyF3Pw5-UP2",
   "metadata": {
    "id": "OGyF3Pw5-UP2"
   },
   "outputs": [],
   "source": [
    "cv = CountVectorizer()"
   ]
  },
  {
   "cell_type": "code",
   "execution_count": 45,
   "id": "JR6pG0GtJvNw",
   "metadata": {
    "id": "JR6pG0GtJvNw"
   },
   "outputs": [],
   "source": [
    "cv1 = CountVectorizer(ngram_range=(2,2))"
   ]
  },
  {
   "cell_type": "code",
   "execution_count": 46,
   "id": "a4M-lWgeHArn",
   "metadata": {
    "id": "a4M-lWgeHArn"
   },
   "outputs": [],
   "source": [
    "tfidf =  TfidfVectorizer()"
   ]
  },
  {
   "cell_type": "code",
   "execution_count": 47,
   "id": "rTmVlGI_J0C-",
   "metadata": {
    "id": "rTmVlGI_J0C-"
   },
   "outputs": [],
   "source": [
    "tfidf1 =  TfidfVectorizer(ngram_range=(2,2))"
   ]
  },
  {
   "cell_type": "markdown",
   "id": "hLltQmQfABiT",
   "metadata": {
    "id": "hLltQmQfABiT"
   },
   "source": [
    "# **TRAINING AND PREDICTION**"
   ]
  },
  {
   "cell_type": "markdown",
   "id": "o5tgD9T5Gpvx",
   "metadata": {
    "id": "o5tgD9T5Gpvx"
   },
   "source": [
    "### **Random Forest Classifier with Count Vectorizer**"
   ]
  },
  {
   "cell_type": "code",
   "execution_count": 48,
   "id": "tSepwI39-kM0",
   "metadata": {
    "colab": {
     "base_uri": "https://localhost:8080/"
    },
    "id": "tSepwI39-kM0",
    "outputId": "cee42397-fdbd-454f-cc89-67f09ebd1b8c"
   },
   "outputs": [
    {
     "data": {
      "text/plain": [
       "array([[0, 0, 0, ..., 0, 0, 0],\n",
       "       [0, 0, 0, ..., 0, 0, 0],\n",
       "       [0, 0, 0, ..., 0, 0, 0],\n",
       "       ...,\n",
       "       [0, 0, 0, ..., 0, 0, 0],\n",
       "       [0, 0, 0, ..., 0, 0, 0],\n",
       "       [0, 0, 0, ..., 0, 0, 0]], dtype=int64)"
      ]
     },
     "execution_count": 48,
     "metadata": {},
     "output_type": "execute_result"
    }
   ],
   "source": [
    "x = cv.fit_transform(train_data['headlines'])\n",
    "y = cv.transform(test_data['headlines'])\n",
    "x.toarray()\n",
    "y.toarray()"
   ]
  },
  {
   "cell_type": "code",
   "execution_count": 49,
   "id": "nJ3-yIOa_FV9",
   "metadata": {
    "colab": {
     "base_uri": "https://localhost:8080/"
    },
    "id": "nJ3-yIOa_FV9",
    "outputId": "0d415434-5a5d-4351-997b-95be7be3d2ec"
   },
   "outputs": [
    {
     "data": {
      "text/plain": [
       "RandomForestClassifier(criterion='entropy', n_estimators=200)"
      ]
     },
     "execution_count": 49,
     "metadata": {},
     "output_type": "execute_result"
    }
   ],
   "source": [
    "rf_clf = RandomForestClassifier(n_estimators=200, criterion='entropy')\n",
    "rf_clf.fit(x, train_data['Label'])"
   ]
  },
  {
   "cell_type": "code",
   "execution_count": 50,
   "id": "Y0PurxcRAxpA",
   "metadata": {
    "id": "Y0PurxcRAxpA"
   },
   "outputs": [],
   "source": [
    "y_pred = rf_clf.predict(y)"
   ]
  },
  {
   "cell_type": "code",
   "execution_count": 51,
   "id": "56cbb84d",
   "metadata": {
    "scrolled": true
   },
   "outputs": [
    {
     "data": {
      "text/plain": [
       "{'bootstrap': True,\n",
       " 'ccp_alpha': 0.0,\n",
       " 'class_weight': None,\n",
       " 'criterion': 'entropy',\n",
       " 'max_depth': None,\n",
       " 'max_features': 'auto',\n",
       " 'max_leaf_nodes': None,\n",
       " 'max_samples': None,\n",
       " 'min_impurity_decrease': 0.0,\n",
       " 'min_samples_leaf': 1,\n",
       " 'min_samples_split': 2,\n",
       " 'min_weight_fraction_leaf': 0.0,\n",
       " 'n_estimators': 200,\n",
       " 'n_jobs': None,\n",
       " 'oob_score': False,\n",
       " 'random_state': None,\n",
       " 'verbose': 0,\n",
       " 'warm_start': False}"
      ]
     },
     "execution_count": 51,
     "metadata": {},
     "output_type": "execute_result"
    }
   ],
   "source": [
    "rf_clf.get_params()"
   ]
  },
  {
   "cell_type": "code",
   "execution_count": 52,
   "id": "CcIFiGHAA3nf",
   "metadata": {
    "colab": {
     "base_uri": "https://localhost:8080/"
    },
    "id": "CcIFiGHAA3nf",
    "outputId": "e6d77c86-a9b7-46ab-c211-233bdc0b86b8"
   },
   "outputs": [
    {
     "data": {
      "text/plain": [
       "array([[142,  44],\n",
       "       [ 17, 175]], dtype=int64)"
      ]
     },
     "execution_count": 52,
     "metadata": {},
     "output_type": "execute_result"
    }
   ],
   "source": [
    "confusion_matrix(test_data['Label'], y_pred)"
   ]
  },
  {
   "cell_type": "code",
   "execution_count": 53,
   "id": "90-n2ygWC64t",
   "metadata": {
    "colab": {
     "base_uri": "https://localhost:8080/"
    },
    "id": "90-n2ygWC64t",
    "outputId": "6a89b515-6675-4484-9a22-84180a4818ad"
   },
   "outputs": [
    {
     "name": "stdout",
     "output_type": "stream",
     "text": [
      "              precision    recall  f1-score   support\n",
      "\n",
      "           0       0.89      0.76      0.82       186\n",
      "           1       0.80      0.91      0.85       192\n",
      "\n",
      "    accuracy                           0.84       378\n",
      "   macro avg       0.85      0.84      0.84       378\n",
      "weighted avg       0.85      0.84      0.84       378\n",
      "\n"
     ]
    }
   ],
   "source": [
    "print(classification_report(test_data['Label'], y_pred))"
   ]
  },
  {
   "cell_type": "code",
   "execution_count": 54,
   "id": "CpoI73C-DAwb",
   "metadata": {
    "colab": {
     "base_uri": "https://localhost:8080/"
    },
    "id": "CpoI73C-DAwb",
    "outputId": "33cc2287-5537-4c98-fe1f-fbe55034e34f"
   },
   "outputs": [
    {
     "name": "stdout",
     "output_type": "stream",
     "text": [
      "0.84\n"
     ]
    }
   ],
   "source": [
    "rf_acc1 = accuracy_score(test_data['Label'], y_pred).round(2)\n",
    "print(accuracy_score(test_data['Label'], y_pred).round(2))"
   ]
  },
  {
   "cell_type": "code",
   "execution_count": 55,
   "id": "rVV0CY6gJ8Vh",
   "metadata": {
    "colab": {
     "base_uri": "https://localhost:8080/"
    },
    "id": "rVV0CY6gJ8Vh",
    "outputId": "47df9145-79bf-413b-a4ef-e3e2c74d3913"
   },
   "outputs": [
    {
     "data": {
      "text/plain": [
       "array([[0, 0, 0, ..., 0, 0, 0],\n",
       "       [0, 0, 0, ..., 0, 0, 0],\n",
       "       [0, 0, 0, ..., 0, 0, 0],\n",
       "       ...,\n",
       "       [0, 0, 0, ..., 0, 0, 0],\n",
       "       [0, 0, 0, ..., 0, 0, 0],\n",
       "       [0, 0, 0, ..., 0, 0, 0]], dtype=int64)"
      ]
     },
     "execution_count": 55,
     "metadata": {},
     "output_type": "execute_result"
    }
   ],
   "source": [
    "x = cv1.fit_transform(train_data['headlines'])\n",
    "y = cv1.transform(test_data['headlines'])\n",
    "x.toarray()\n",
    "y.toarray()"
   ]
  },
  {
   "cell_type": "code",
   "execution_count": 56,
   "id": "iCH4MP1jJ8Vi",
   "metadata": {
    "colab": {
     "base_uri": "https://localhost:8080/"
    },
    "id": "iCH4MP1jJ8Vi",
    "outputId": "f719260c-1810-40a0-b1d6-fa93fcca5d75"
   },
   "outputs": [
    {
     "data": {
      "text/plain": [
       "RandomForestClassifier(criterion='entropy', n_estimators=200)"
      ]
     },
     "execution_count": 56,
     "metadata": {},
     "output_type": "execute_result"
    }
   ],
   "source": [
    "rf_clf = RandomForestClassifier(n_estimators=200, criterion='entropy')\n",
    "rf_clf.fit(x, train_data['Label'])"
   ]
  },
  {
   "cell_type": "code",
   "execution_count": 57,
   "id": "wROhyFsqJ8Vj",
   "metadata": {
    "id": "wROhyFsqJ8Vj"
   },
   "outputs": [],
   "source": [
    "y_pred = rf_clf.predict(y)"
   ]
  },
  {
   "cell_type": "code",
   "execution_count": 58,
   "id": "nuVcA3uaJ8Vj",
   "metadata": {
    "colab": {
     "base_uri": "https://localhost:8080/"
    },
    "id": "nuVcA3uaJ8Vj",
    "outputId": "9c3677ad-7670-48f3-d2b4-13dc68494c1e"
   },
   "outputs": [
    {
     "data": {
      "text/plain": [
       "array([[130,  56],\n",
       "       [  0, 192]], dtype=int64)"
      ]
     },
     "execution_count": 58,
     "metadata": {},
     "output_type": "execute_result"
    }
   ],
   "source": [
    "confusion_matrix(test_data['Label'], y_pred)"
   ]
  },
  {
   "cell_type": "code",
   "execution_count": 59,
   "id": "D6cVAE5JJ8Vj",
   "metadata": {
    "colab": {
     "base_uri": "https://localhost:8080/"
    },
    "id": "D6cVAE5JJ8Vj",
    "outputId": "bf66473c-eccc-48cf-be70-2f18b7701bac"
   },
   "outputs": [
    {
     "name": "stdout",
     "output_type": "stream",
     "text": [
      "              precision    recall  f1-score   support\n",
      "\n",
      "           0       1.00      0.70      0.82       186\n",
      "           1       0.77      1.00      0.87       192\n",
      "\n",
      "    accuracy                           0.85       378\n",
      "   macro avg       0.89      0.85      0.85       378\n",
      "weighted avg       0.89      0.85      0.85       378\n",
      "\n"
     ]
    }
   ],
   "source": [
    "print(classification_report(test_data['Label'], y_pred))"
   ]
  },
  {
   "cell_type": "code",
   "execution_count": 60,
   "id": "p9MuwpHGJ8Vj",
   "metadata": {
    "colab": {
     "base_uri": "https://localhost:8080/"
    },
    "id": "p9MuwpHGJ8Vj",
    "outputId": "b00d6472-4904-48c0-8283-e8ba8ecab9a5"
   },
   "outputs": [
    {
     "name": "stdout",
     "output_type": "stream",
     "text": [
      "0.85\n"
     ]
    }
   ],
   "source": [
    "rf_acc2 = accuracy_score(test_data['Label'], y_pred).round(2)\n",
    "print(accuracy_score(test_data['Label'], y_pred).round(2))"
   ]
  },
  {
   "cell_type": "markdown",
   "id": "6xfHdkMbG0si",
   "metadata": {
    "id": "6xfHdkMbG0si"
   },
   "source": [
    "### **Random Forest Classifier with TfIdfVectorizer**"
   ]
  },
  {
   "cell_type": "code",
   "execution_count": 61,
   "id": "AbC1682gHqPn",
   "metadata": {
    "colab": {
     "base_uri": "https://localhost:8080/"
    },
    "id": "AbC1682gHqPn",
    "outputId": "97d51023-72e4-4d79-aa52-1063946db243"
   },
   "outputs": [
    {
     "data": {
      "text/plain": [
       "array([[0., 0., 0., ..., 0., 0., 0.],\n",
       "       [0., 0., 0., ..., 0., 0., 0.],\n",
       "       [0., 0., 0., ..., 0., 0., 0.],\n",
       "       ...,\n",
       "       [0., 0., 0., ..., 0., 0., 0.],\n",
       "       [0., 0., 0., ..., 0., 0., 0.],\n",
       "       [0., 0., 0., ..., 0., 0., 0.]])"
      ]
     },
     "execution_count": 61,
     "metadata": {},
     "output_type": "execute_result"
    }
   ],
   "source": [
    "x = tfidf.fit_transform(train_data['headlines'])\n",
    "y = tfidf.transform(test_data['headlines'])\n",
    "x.toarray()\n",
    "y.toarray()"
   ]
  },
  {
   "cell_type": "code",
   "execution_count": 62,
   "id": "M8vIkJp8G0si",
   "metadata": {
    "colab": {
     "base_uri": "https://localhost:8080/"
    },
    "id": "M8vIkJp8G0si",
    "outputId": "0e2b846b-2995-4d05-cd5e-56683cd2f22d"
   },
   "outputs": [
    {
     "data": {
      "text/plain": [
       "RandomForestClassifier(criterion='entropy', n_estimators=200)"
      ]
     },
     "execution_count": 62,
     "metadata": {},
     "output_type": "execute_result"
    }
   ],
   "source": [
    "rf_clf = RandomForestClassifier(n_estimators=200, criterion='entropy')\n",
    "rf_clf.fit(x, train_data['Label'])"
   ]
  },
  {
   "cell_type": "code",
   "execution_count": 63,
   "id": "53fbc4cf",
   "metadata": {},
   "outputs": [
    {
     "data": {
      "text/plain": [
       "{'bootstrap': True,\n",
       " 'ccp_alpha': 0.0,\n",
       " 'class_weight': None,\n",
       " 'criterion': 'entropy',\n",
       " 'max_depth': None,\n",
       " 'max_features': 'auto',\n",
       " 'max_leaf_nodes': None,\n",
       " 'max_samples': None,\n",
       " 'min_impurity_decrease': 0.0,\n",
       " 'min_samples_leaf': 1,\n",
       " 'min_samples_split': 2,\n",
       " 'min_weight_fraction_leaf': 0.0,\n",
       " 'n_estimators': 200,\n",
       " 'n_jobs': None,\n",
       " 'oob_score': False,\n",
       " 'random_state': None,\n",
       " 'verbose': 0,\n",
       " 'warm_start': False}"
      ]
     },
     "execution_count": 63,
     "metadata": {},
     "output_type": "execute_result"
    }
   ],
   "source": [
    "rf_clf.get_params()"
   ]
  },
  {
   "cell_type": "code",
   "execution_count": 64,
   "id": "L9boyLGUG0sj",
   "metadata": {
    "id": "L9boyLGUG0sj"
   },
   "outputs": [],
   "source": [
    "y_pred = rf_clf.predict(y)"
   ]
  },
  {
   "cell_type": "code",
   "execution_count": 65,
   "id": "z420sip5G0sj",
   "metadata": {
    "colab": {
     "base_uri": "https://localhost:8080/"
    },
    "id": "z420sip5G0sj",
    "outputId": "1e3ce4e4-a137-4a93-b65f-0c91cf77f147"
   },
   "outputs": [
    {
     "data": {
      "text/plain": [
       "array([[146,  40],\n",
       "       [ 21, 171]], dtype=int64)"
      ]
     },
     "execution_count": 65,
     "metadata": {},
     "output_type": "execute_result"
    }
   ],
   "source": [
    "confusion_matrix(test_data['Label'], y_pred)"
   ]
  },
  {
   "cell_type": "code",
   "execution_count": 66,
   "id": "japVlHxXG0sj",
   "metadata": {
    "colab": {
     "base_uri": "https://localhost:8080/"
    },
    "id": "japVlHxXG0sj",
    "outputId": "9c6280ad-7aa3-41f6-d96b-bb87dd148068"
   },
   "outputs": [
    {
     "name": "stdout",
     "output_type": "stream",
     "text": [
      "              precision    recall  f1-score   support\n",
      "\n",
      "           0       0.87      0.78      0.83       186\n",
      "           1       0.81      0.89      0.85       192\n",
      "\n",
      "    accuracy                           0.84       378\n",
      "   macro avg       0.84      0.84      0.84       378\n",
      "weighted avg       0.84      0.84      0.84       378\n",
      "\n"
     ]
    }
   ],
   "source": [
    "print(classification_report(test_data['Label'], y_pred))"
   ]
  },
  {
   "cell_type": "code",
   "execution_count": 67,
   "id": "ANOUjdwuG0sk",
   "metadata": {
    "colab": {
     "base_uri": "https://localhost:8080/"
    },
    "id": "ANOUjdwuG0sk",
    "outputId": "2788942b-4deb-4f69-bb88-13dd8e90f4e5"
   },
   "outputs": [
    {
     "name": "stdout",
     "output_type": "stream",
     "text": [
      "0.84\n"
     ]
    }
   ],
   "source": [
    "rf_acc3 = accuracy_score(test_data['Label'], y_pred).round(2)\n",
    "print(accuracy_score(test_data['Label'], y_pred).round(2))"
   ]
  },
  {
   "cell_type": "code",
   "execution_count": 68,
   "id": "DicA-up2KK9p",
   "metadata": {
    "colab": {
     "base_uri": "https://localhost:8080/"
    },
    "id": "DicA-up2KK9p",
    "outputId": "324b696f-14bb-4546-a6be-75cdb8f5a824"
   },
   "outputs": [
    {
     "data": {
      "text/plain": [
       "array([[0., 0., 0., ..., 0., 0., 0.],\n",
       "       [0., 0., 0., ..., 0., 0., 0.],\n",
       "       [0., 0., 0., ..., 0., 0., 0.],\n",
       "       ...,\n",
       "       [0., 0., 0., ..., 0., 0., 0.],\n",
       "       [0., 0., 0., ..., 0., 0., 0.],\n",
       "       [0., 0., 0., ..., 0., 0., 0.]])"
      ]
     },
     "execution_count": 68,
     "metadata": {},
     "output_type": "execute_result"
    }
   ],
   "source": [
    "x = tfidf1.fit_transform(train_data['headlines'])\n",
    "y = tfidf1.transform(test_data['headlines'])\n",
    "x.toarray()\n",
    "y.toarray()"
   ]
  },
  {
   "cell_type": "code",
   "execution_count": 69,
   "id": "OxKpbZGoKK9p",
   "metadata": {
    "colab": {
     "base_uri": "https://localhost:8080/"
    },
    "id": "OxKpbZGoKK9p",
    "outputId": "92f158a6-84af-482a-fb75-859ee8a90ae5"
   },
   "outputs": [
    {
     "data": {
      "text/plain": [
       "RandomForestClassifier(criterion='entropy', n_estimators=200)"
      ]
     },
     "execution_count": 69,
     "metadata": {},
     "output_type": "execute_result"
    }
   ],
   "source": [
    "rf_clf = RandomForestClassifier(n_estimators=200, criterion='entropy')\n",
    "rf_clf.fit(x, train_data['Label'])"
   ]
  },
  {
   "cell_type": "code",
   "execution_count": 70,
   "id": "ber-QXd2KK9p",
   "metadata": {
    "id": "ber-QXd2KK9p"
   },
   "outputs": [],
   "source": [
    "y_pred = rf_clf.predict(y)"
   ]
  },
  {
   "cell_type": "code",
   "execution_count": 71,
   "id": "q7Qdqt5rKK9q",
   "metadata": {
    "colab": {
     "base_uri": "https://localhost:8080/"
    },
    "id": "q7Qdqt5rKK9q",
    "outputId": "3fe226f0-b8c0-4b99-d1a9-6bc98e719d1b"
   },
   "outputs": [
    {
     "data": {
      "text/plain": [
       "array([[134,  52],\n",
       "       [ 12, 180]], dtype=int64)"
      ]
     },
     "execution_count": 71,
     "metadata": {},
     "output_type": "execute_result"
    }
   ],
   "source": [
    "confusion_matrix(test_data['Label'], y_pred)"
   ]
  },
  {
   "cell_type": "code",
   "execution_count": 72,
   "id": "qRfMg7NuKK9q",
   "metadata": {
    "colab": {
     "base_uri": "https://localhost:8080/"
    },
    "id": "qRfMg7NuKK9q",
    "outputId": "34b73a9d-515f-4f04-936d-c13614690fa7"
   },
   "outputs": [
    {
     "name": "stdout",
     "output_type": "stream",
     "text": [
      "              precision    recall  f1-score   support\n",
      "\n",
      "           0       0.92      0.72      0.81       186\n",
      "           1       0.78      0.94      0.85       192\n",
      "\n",
      "    accuracy                           0.83       378\n",
      "   macro avg       0.85      0.83      0.83       378\n",
      "weighted avg       0.85      0.83      0.83       378\n",
      "\n"
     ]
    }
   ],
   "source": [
    "print(classification_report(test_data['Label'], y_pred))"
   ]
  },
  {
   "cell_type": "code",
   "execution_count": 73,
   "id": "-PWk-oH0KK9q",
   "metadata": {
    "colab": {
     "base_uri": "https://localhost:8080/"
    },
    "id": "-PWk-oH0KK9q",
    "outputId": "2f64d32b-da6f-49fd-c968-de29361b27b0"
   },
   "outputs": [
    {
     "name": "stdout",
     "output_type": "stream",
     "text": [
      "0.83\n"
     ]
    }
   ],
   "source": [
    "rf_acc4 = accuracy_score(test_data['Label'], y_pred).round(2)\n",
    "print(accuracy_score(test_data['Label'], y_pred).round(2))"
   ]
  },
  {
   "cell_type": "markdown",
   "id": "UIH3JmhoTLzZ",
   "metadata": {
    "id": "UIH3JmhoTLzZ"
   },
   "source": [
    "### **SVM Classifier with Count Vectorizer**"
   ]
  },
  {
   "cell_type": "code",
   "execution_count": 74,
   "id": "iHlVqeI5TLzg",
   "metadata": {
    "id": "iHlVqeI5TLzg"
   },
   "outputs": [
    {
     "data": {
      "text/plain": [
       "array([[0, 0, 0, ..., 0, 0, 0],\n",
       "       [0, 0, 0, ..., 0, 0, 0],\n",
       "       [0, 0, 0, ..., 0, 0, 0],\n",
       "       ...,\n",
       "       [0, 0, 0, ..., 0, 0, 0],\n",
       "       [0, 0, 0, ..., 0, 0, 0],\n",
       "       [0, 0, 0, ..., 0, 0, 0]], dtype=int64)"
      ]
     },
     "execution_count": 74,
     "metadata": {},
     "output_type": "execute_result"
    }
   ],
   "source": [
    "x = cv.fit_transform(train_data['headlines'])\n",
    "y = cv.transform(test_data['headlines'])\n",
    "x.toarray()\n",
    "y.toarray()"
   ]
  },
  {
   "cell_type": "code",
   "execution_count": 75,
   "id": "uuLcPiFmTLzg",
   "metadata": {
    "id": "uuLcPiFmTLzg"
   },
   "outputs": [
    {
     "data": {
      "text/plain": [
       "SVC(C=1)"
      ]
     },
     "execution_count": 75,
     "metadata": {},
     "output_type": "execute_result"
    }
   ],
   "source": [
    "clf = svm.SVC(C=1)\n",
    "clf.fit(x, train_data['Label'])"
   ]
  },
  {
   "cell_type": "code",
   "execution_count": 76,
   "id": "c1d9f091",
   "metadata": {},
   "outputs": [
    {
     "data": {
      "text/plain": [
       "{'C': 1,\n",
       " 'break_ties': False,\n",
       " 'cache_size': 200,\n",
       " 'class_weight': None,\n",
       " 'coef0': 0.0,\n",
       " 'decision_function_shape': 'ovr',\n",
       " 'degree': 3,\n",
       " 'gamma': 'scale',\n",
       " 'kernel': 'rbf',\n",
       " 'max_iter': -1,\n",
       " 'probability': False,\n",
       " 'random_state': None,\n",
       " 'shrinking': True,\n",
       " 'tol': 0.001,\n",
       " 'verbose': False}"
      ]
     },
     "execution_count": 76,
     "metadata": {},
     "output_type": "execute_result"
    }
   ],
   "source": [
    "clf.get_params()"
   ]
  },
  {
   "cell_type": "code",
   "execution_count": 77,
   "id": "LVz-7ZFmTLzg",
   "metadata": {
    "id": "LVz-7ZFmTLzg"
   },
   "outputs": [],
   "source": [
    "y_pred = clf.predict(y)"
   ]
  },
  {
   "cell_type": "code",
   "execution_count": 78,
   "id": "S8uwMZULTLzg",
   "metadata": {
    "id": "S8uwMZULTLzg"
   },
   "outputs": [
    {
     "data": {
      "text/plain": [
       "array([[134,  52],\n",
       "       [  8, 184]], dtype=int64)"
      ]
     },
     "execution_count": 78,
     "metadata": {},
     "output_type": "execute_result"
    }
   ],
   "source": [
    "confusion_matrix(test_data['Label'], y_pred)"
   ]
  },
  {
   "cell_type": "code",
   "execution_count": 79,
   "id": "4Ac9eqz2TLzg",
   "metadata": {
    "id": "4Ac9eqz2TLzg"
   },
   "outputs": [
    {
     "name": "stdout",
     "output_type": "stream",
     "text": [
      "              precision    recall  f1-score   support\n",
      "\n",
      "           0       0.94      0.72      0.82       186\n",
      "           1       0.78      0.96      0.86       192\n",
      "\n",
      "    accuracy                           0.84       378\n",
      "   macro avg       0.86      0.84      0.84       378\n",
      "weighted avg       0.86      0.84      0.84       378\n",
      "\n"
     ]
    }
   ],
   "source": [
    "print(classification_report(test_data['Label'], y_pred))"
   ]
  },
  {
   "cell_type": "code",
   "execution_count": 80,
   "id": "ka_Oy3czTLzh",
   "metadata": {
    "id": "ka_Oy3czTLzh"
   },
   "outputs": [
    {
     "name": "stdout",
     "output_type": "stream",
     "text": [
      "0.84\n"
     ]
    }
   ],
   "source": [
    "svm_acc1 = accuracy_score(test_data['Label'], y_pred).round(2)\n",
    "print(accuracy_score(test_data['Label'], y_pred).round(2))"
   ]
  },
  {
   "cell_type": "code",
   "execution_count": 81,
   "id": "9lLSsQByTLzh",
   "metadata": {
    "id": "9lLSsQByTLzh"
   },
   "outputs": [
    {
     "data": {
      "text/plain": [
       "array([[0, 0, 0, ..., 0, 0, 0],\n",
       "       [0, 0, 0, ..., 0, 0, 0],\n",
       "       [0, 0, 0, ..., 0, 0, 0],\n",
       "       ...,\n",
       "       [0, 0, 0, ..., 0, 0, 0],\n",
       "       [0, 0, 0, ..., 0, 0, 0],\n",
       "       [0, 0, 0, ..., 0, 0, 0]], dtype=int64)"
      ]
     },
     "execution_count": 81,
     "metadata": {},
     "output_type": "execute_result"
    }
   ],
   "source": [
    "x = cv1.fit_transform(train_data['headlines'])\n",
    "y = cv1.transform(test_data['headlines'])\n",
    "x.toarray()\n",
    "y.toarray()"
   ]
  },
  {
   "cell_type": "code",
   "execution_count": 82,
   "id": "7r-7BilGTLzh",
   "metadata": {
    "id": "7r-7BilGTLzh"
   },
   "outputs": [
    {
     "data": {
      "text/plain": [
       "SVC()"
      ]
     },
     "execution_count": 82,
     "metadata": {},
     "output_type": "execute_result"
    }
   ],
   "source": [
    "clf = svm.SVC()\n",
    "clf.fit(x, train_data['Label'])"
   ]
  },
  {
   "cell_type": "code",
   "execution_count": 83,
   "id": "mB4qk6uYTLzh",
   "metadata": {
    "id": "mB4qk6uYTLzh"
   },
   "outputs": [],
   "source": [
    "y_pred = clf.predict(y)"
   ]
  },
  {
   "cell_type": "code",
   "execution_count": 84,
   "id": "STZEa5d1TLzh",
   "metadata": {
    "id": "STZEa5d1TLzh"
   },
   "outputs": [
    {
     "data": {
      "text/plain": [
       "array([[130,  56],\n",
       "       [  0, 192]], dtype=int64)"
      ]
     },
     "execution_count": 84,
     "metadata": {},
     "output_type": "execute_result"
    }
   ],
   "source": [
    "confusion_matrix(test_data['Label'], y_pred)"
   ]
  },
  {
   "cell_type": "code",
   "execution_count": 85,
   "id": "TZuYt73wTLzh",
   "metadata": {
    "id": "TZuYt73wTLzh"
   },
   "outputs": [
    {
     "name": "stdout",
     "output_type": "stream",
     "text": [
      "              precision    recall  f1-score   support\n",
      "\n",
      "           0       1.00      0.70      0.82       186\n",
      "           1       0.77      1.00      0.87       192\n",
      "\n",
      "    accuracy                           0.85       378\n",
      "   macro avg       0.89      0.85      0.85       378\n",
      "weighted avg       0.89      0.85      0.85       378\n",
      "\n"
     ]
    }
   ],
   "source": [
    "print(classification_report(test_data['Label'], y_pred))"
   ]
  },
  {
   "cell_type": "code",
   "execution_count": 86,
   "id": "-RmdTxfRTLzh",
   "metadata": {
    "id": "-RmdTxfRTLzh"
   },
   "outputs": [
    {
     "name": "stdout",
     "output_type": "stream",
     "text": [
      "0.85\n"
     ]
    }
   ],
   "source": [
    "svm_acc2 = accuracy_score(test_data['Label'], y_pred).round(2)\n",
    "print(accuracy_score(test_data['Label'], y_pred).round(2))"
   ]
  },
  {
   "cell_type": "markdown",
   "id": "OLLuE2UqcxiJ",
   "metadata": {
    "id": "OLLuE2UqcxiJ"
   },
   "source": [
    "### **SVM Classifier with TfIdf Vectorizer**"
   ]
  },
  {
   "cell_type": "code",
   "execution_count": 87,
   "id": "G4qkn7T6cxiP",
   "metadata": {
    "id": "G4qkn7T6cxiP"
   },
   "outputs": [
    {
     "data": {
      "text/plain": [
       "array([[0., 0., 0., ..., 0., 0., 0.],\n",
       "       [0., 0., 0., ..., 0., 0., 0.],\n",
       "       [0., 0., 0., ..., 0., 0., 0.],\n",
       "       ...,\n",
       "       [0., 0., 0., ..., 0., 0., 0.],\n",
       "       [0., 0., 0., ..., 0., 0., 0.],\n",
       "       [0., 0., 0., ..., 0., 0., 0.]])"
      ]
     },
     "execution_count": 87,
     "metadata": {},
     "output_type": "execute_result"
    }
   ],
   "source": [
    "x = tfidf.fit_transform(train_data['headlines'])\n",
    "y = tfidf.transform(test_data['headlines'])\n",
    "x.toarray()\n",
    "y.toarray()"
   ]
  },
  {
   "cell_type": "code",
   "execution_count": 88,
   "id": "Qj9mLNeLcxiQ",
   "metadata": {
    "id": "Qj9mLNeLcxiQ",
    "scrolled": true
   },
   "outputs": [
    {
     "data": {
      "text/plain": [
       "SVC()"
      ]
     },
     "execution_count": 88,
     "metadata": {},
     "output_type": "execute_result"
    }
   ],
   "source": [
    "clf = svm.SVC()\n",
    "clf.fit(x, train_data['Label'])"
   ]
  },
  {
   "cell_type": "code",
   "execution_count": 89,
   "id": "69f04143",
   "metadata": {},
   "outputs": [
    {
     "data": {
      "text/plain": [
       "{'C': 1.0,\n",
       " 'break_ties': False,\n",
       " 'cache_size': 200,\n",
       " 'class_weight': None,\n",
       " 'coef0': 0.0,\n",
       " 'decision_function_shape': 'ovr',\n",
       " 'degree': 3,\n",
       " 'gamma': 'scale',\n",
       " 'kernel': 'rbf',\n",
       " 'max_iter': -1,\n",
       " 'probability': False,\n",
       " 'random_state': None,\n",
       " 'shrinking': True,\n",
       " 'tol': 0.001,\n",
       " 'verbose': False}"
      ]
     },
     "execution_count": 89,
     "metadata": {},
     "output_type": "execute_result"
    }
   ],
   "source": [
    "clf.get_params()"
   ]
  },
  {
   "cell_type": "code",
   "execution_count": 90,
   "id": "O4bUJFqwcxiQ",
   "metadata": {
    "id": "O4bUJFqwcxiQ"
   },
   "outputs": [],
   "source": [
    "y_pred = clf.predict(y)"
   ]
  },
  {
   "cell_type": "code",
   "execution_count": 91,
   "id": "xFDW2G8mcxiQ",
   "metadata": {
    "id": "xFDW2G8mcxiQ"
   },
   "outputs": [
    {
     "data": {
      "text/plain": [
       "array([[131,  55],\n",
       "       [  3, 189]], dtype=int64)"
      ]
     },
     "execution_count": 91,
     "metadata": {},
     "output_type": "execute_result"
    }
   ],
   "source": [
    "confusion_matrix(test_data['Label'], y_pred)"
   ]
  },
  {
   "cell_type": "code",
   "execution_count": 92,
   "id": "5DRXyyNqcxiQ",
   "metadata": {
    "id": "5DRXyyNqcxiQ"
   },
   "outputs": [
    {
     "name": "stdout",
     "output_type": "stream",
     "text": [
      "              precision    recall  f1-score   support\n",
      "\n",
      "           0       0.98      0.70      0.82       186\n",
      "           1       0.77      0.98      0.87       192\n",
      "\n",
      "    accuracy                           0.85       378\n",
      "   macro avg       0.88      0.84      0.84       378\n",
      "weighted avg       0.87      0.85      0.84       378\n",
      "\n"
     ]
    }
   ],
   "source": [
    "print(classification_report(test_data['Label'], y_pred))"
   ]
  },
  {
   "cell_type": "code",
   "execution_count": 93,
   "id": "AJUkWQctcxiQ",
   "metadata": {
    "id": "AJUkWQctcxiQ"
   },
   "outputs": [
    {
     "name": "stdout",
     "output_type": "stream",
     "text": [
      "0.85\n"
     ]
    }
   ],
   "source": [
    "svm_acc3 = accuracy_score(test_data['Label'], y_pred).round(2)\n",
    "print(accuracy_score(test_data['Label'], y_pred).round(2))"
   ]
  },
  {
   "cell_type": "code",
   "execution_count": 94,
   "id": "tUNgkeKTcxiQ",
   "metadata": {
    "id": "tUNgkeKTcxiQ"
   },
   "outputs": [
    {
     "data": {
      "text/plain": [
       "array([[0., 0., 0., ..., 0., 0., 0.],\n",
       "       [0., 0., 0., ..., 0., 0., 0.],\n",
       "       [0., 0., 0., ..., 0., 0., 0.],\n",
       "       ...,\n",
       "       [0., 0., 0., ..., 0., 0., 0.],\n",
       "       [0., 0., 0., ..., 0., 0., 0.],\n",
       "       [0., 0., 0., ..., 0., 0., 0.]])"
      ]
     },
     "execution_count": 94,
     "metadata": {},
     "output_type": "execute_result"
    }
   ],
   "source": [
    "x = tfidf1.fit_transform(train_data['headlines'])\n",
    "y = tfidf1.transform(test_data['headlines'])\n",
    "x.toarray()\n",
    "y.toarray()"
   ]
  },
  {
   "cell_type": "code",
   "execution_count": 95,
   "id": "Vl6V4yuTcxiQ",
   "metadata": {
    "id": "Vl6V4yuTcxiQ"
   },
   "outputs": [
    {
     "data": {
      "text/plain": [
       "SVC()"
      ]
     },
     "execution_count": 95,
     "metadata": {},
     "output_type": "execute_result"
    }
   ],
   "source": [
    "clf = svm.SVC()\n",
    "clf.fit(x, train_data['Label'])"
   ]
  },
  {
   "cell_type": "code",
   "execution_count": 96,
   "id": "w8iuWae-cxiQ",
   "metadata": {
    "id": "w8iuWae-cxiQ"
   },
   "outputs": [],
   "source": [
    "y_pred = clf.predict(y)"
   ]
  },
  {
   "cell_type": "code",
   "execution_count": 97,
   "id": "90-VK_xGcxiQ",
   "metadata": {
    "id": "90-VK_xGcxiQ"
   },
   "outputs": [
    {
     "data": {
      "text/plain": [
       "array([[130,  56],\n",
       "       [  0, 192]], dtype=int64)"
      ]
     },
     "execution_count": 97,
     "metadata": {},
     "output_type": "execute_result"
    }
   ],
   "source": [
    "confusion_matrix(test_data['Label'], y_pred)"
   ]
  },
  {
   "cell_type": "code",
   "execution_count": 98,
   "id": "Mcguw3uGcxiQ",
   "metadata": {
    "id": "Mcguw3uGcxiQ"
   },
   "outputs": [
    {
     "name": "stdout",
     "output_type": "stream",
     "text": [
      "              precision    recall  f1-score   support\n",
      "\n",
      "           0       1.00      0.70      0.82       186\n",
      "           1       0.77      1.00      0.87       192\n",
      "\n",
      "    accuracy                           0.85       378\n",
      "   macro avg       0.89      0.85      0.85       378\n",
      "weighted avg       0.89      0.85      0.85       378\n",
      "\n"
     ]
    }
   ],
   "source": [
    "print(classification_report(test_data['Label'], y_pred))"
   ]
  },
  {
   "cell_type": "code",
   "execution_count": 99,
   "id": "EUQ5nolhcxiQ",
   "metadata": {
    "id": "EUQ5nolhcxiQ"
   },
   "outputs": [
    {
     "name": "stdout",
     "output_type": "stream",
     "text": [
      "0.85\n"
     ]
    }
   ],
   "source": [
    "svm_acc4 = accuracy_score(test_data['Label'], y_pred).round(2)\n",
    "print(accuracy_score(test_data['Label'], y_pred).round(2))"
   ]
  },
  {
   "cell_type": "markdown",
   "id": "8ftTD4cbTMC5",
   "metadata": {
    "id": "8ftTD4cbTMC5"
   },
   "source": [
    "### **KNN Classifier with Count Vectorizer**"
   ]
  },
  {
   "cell_type": "code",
   "execution_count": 100,
   "id": "fp_Vg6f6TMC5",
   "metadata": {
    "id": "fp_Vg6f6TMC5"
   },
   "outputs": [
    {
     "data": {
      "text/plain": [
       "array([[0, 0, 0, ..., 0, 0, 0],\n",
       "       [0, 0, 0, ..., 0, 0, 0],\n",
       "       [0, 0, 0, ..., 0, 0, 0],\n",
       "       ...,\n",
       "       [0, 0, 0, ..., 0, 0, 0],\n",
       "       [0, 0, 0, ..., 0, 0, 0],\n",
       "       [0, 0, 0, ..., 0, 0, 0]], dtype=int64)"
      ]
     },
     "execution_count": 100,
     "metadata": {},
     "output_type": "execute_result"
    }
   ],
   "source": [
    "x = cv.fit_transform(train_data['headlines'])\n",
    "y = cv.transform(test_data['headlines'])\n",
    "x.toarray()\n",
    "y.toarray()"
   ]
  },
  {
   "cell_type": "code",
   "execution_count": 101,
   "id": "K2zxnwcjTMC5",
   "metadata": {
    "id": "K2zxnwcjTMC5"
   },
   "outputs": [
    {
     "data": {
      "text/plain": [
       "KNeighborsClassifier(metric='cosine', n_neighbors=1)"
      ]
     },
     "execution_count": 101,
     "metadata": {},
     "output_type": "execute_result"
    }
   ],
   "source": [
    "knn = KNeighborsClassifier(n_neighbors=1, metric = 'cosine')\n",
    "knn.fit(x, train_data['Label'])"
   ]
  },
  {
   "cell_type": "code",
   "execution_count": 102,
   "id": "066bbef0",
   "metadata": {},
   "outputs": [
    {
     "data": {
      "text/plain": [
       "{'algorithm': 'auto',\n",
       " 'leaf_size': 30,\n",
       " 'metric': 'cosine',\n",
       " 'metric_params': None,\n",
       " 'n_jobs': None,\n",
       " 'n_neighbors': 1,\n",
       " 'p': 2,\n",
       " 'weights': 'uniform'}"
      ]
     },
     "execution_count": 102,
     "metadata": {},
     "output_type": "execute_result"
    }
   ],
   "source": [
    "knn.get_params()"
   ]
  },
  {
   "cell_type": "code",
   "execution_count": 103,
   "id": "dpwCYYpwTMC5",
   "metadata": {
    "id": "dpwCYYpwTMC5"
   },
   "outputs": [
    {
     "name": "stderr",
     "output_type": "stream",
     "text": [
      "C:\\Users\\Akshay Patil\\anaconda3\\lib\\site-packages\\sklearn\\neighbors\\_classification.py:228: FutureWarning: Unlike other reduction functions (e.g. `skew`, `kurtosis`), the default behavior of `mode` typically preserves the axis it acts along. In SciPy 1.11.0, this behavior will change: the default value of `keepdims` will become False, the `axis` over which the statistic is taken will be eliminated, and the value None will no longer be accepted. Set `keepdims` to True or False to avoid this warning.\n",
      "  mode, _ = stats.mode(_y[neigh_ind, k], axis=1)\n"
     ]
    }
   ],
   "source": [
    "y_pred = knn.predict(y)"
   ]
  },
  {
   "cell_type": "code",
   "execution_count": 104,
   "id": "ax-F82hMTMC6",
   "metadata": {
    "id": "ax-F82hMTMC6"
   },
   "outputs": [
    {
     "data": {
      "text/plain": [
       "array([[157,  29],\n",
       "       [ 27, 165]], dtype=int64)"
      ]
     },
     "execution_count": 104,
     "metadata": {},
     "output_type": "execute_result"
    }
   ],
   "source": [
    "confusion_matrix(test_data['Label'], y_pred)"
   ]
  },
  {
   "cell_type": "code",
   "execution_count": 105,
   "id": "sSh5mqgxTMC6",
   "metadata": {
    "id": "sSh5mqgxTMC6"
   },
   "outputs": [
    {
     "name": "stdout",
     "output_type": "stream",
     "text": [
      "              precision    recall  f1-score   support\n",
      "\n",
      "           0       0.85      0.84      0.85       186\n",
      "           1       0.85      0.86      0.85       192\n",
      "\n",
      "    accuracy                           0.85       378\n",
      "   macro avg       0.85      0.85      0.85       378\n",
      "weighted avg       0.85      0.85      0.85       378\n",
      "\n"
     ]
    }
   ],
   "source": [
    "print(classification_report(test_data['Label'], y_pred))"
   ]
  },
  {
   "cell_type": "code",
   "execution_count": 106,
   "id": "kMrR4XPmTMC6",
   "metadata": {
    "id": "kMrR4XPmTMC6"
   },
   "outputs": [
    {
     "name": "stdout",
     "output_type": "stream",
     "text": [
      "0.85\n"
     ]
    }
   ],
   "source": [
    "knn_acc1 = accuracy_score(test_data['Label'], y_pred).round(2)\n",
    "print(accuracy_score(test_data['Label'], y_pred).round(2))"
   ]
  },
  {
   "cell_type": "code",
   "execution_count": 107,
   "id": "2se0cnilTMC6",
   "metadata": {
    "id": "2se0cnilTMC6"
   },
   "outputs": [
    {
     "data": {
      "text/plain": [
       "array([[0, 0, 0, ..., 0, 0, 0],\n",
       "       [0, 0, 0, ..., 0, 0, 0],\n",
       "       [0, 0, 0, ..., 0, 0, 0],\n",
       "       ...,\n",
       "       [0, 0, 0, ..., 0, 0, 0],\n",
       "       [0, 0, 0, ..., 0, 0, 0],\n",
       "       [0, 0, 0, ..., 0, 0, 0]], dtype=int64)"
      ]
     },
     "execution_count": 107,
     "metadata": {},
     "output_type": "execute_result"
    }
   ],
   "source": [
    "x = cv1.fit_transform(train_data['headlines'])\n",
    "y = cv1.transform(test_data['headlines'])\n",
    "x.toarray()\n",
    "y.toarray()"
   ]
  },
  {
   "cell_type": "code",
   "execution_count": 108,
   "id": "Nj_sENj3TMC6",
   "metadata": {
    "id": "Nj_sENj3TMC6"
   },
   "outputs": [
    {
     "data": {
      "text/plain": [
       "KNeighborsClassifier(metric='cosine', n_neighbors=1)"
      ]
     },
     "execution_count": 108,
     "metadata": {},
     "output_type": "execute_result"
    }
   ],
   "source": [
    "knn = KNeighborsClassifier(n_neighbors=1, metric = 'cosine')\n",
    "knn.fit(x, train_data['Label'])"
   ]
  },
  {
   "cell_type": "code",
   "execution_count": 109,
   "id": "pThh9oFQTMC6",
   "metadata": {
    "id": "pThh9oFQTMC6"
   },
   "outputs": [
    {
     "name": "stderr",
     "output_type": "stream",
     "text": [
      "C:\\Users\\Akshay Patil\\anaconda3\\lib\\site-packages\\sklearn\\neighbors\\_classification.py:228: FutureWarning: Unlike other reduction functions (e.g. `skew`, `kurtosis`), the default behavior of `mode` typically preserves the axis it acts along. In SciPy 1.11.0, this behavior will change: the default value of `keepdims` will become False, the `axis` over which the statistic is taken will be eliminated, and the value None will no longer be accepted. Set `keepdims` to True or False to avoid this warning.\n",
      "  mode, _ = stats.mode(_y[neigh_ind, k], axis=1)\n"
     ]
    }
   ],
   "source": [
    "y_pred = knn.predict(y)"
   ]
  },
  {
   "cell_type": "code",
   "execution_count": 110,
   "id": "5Ft1zAe6TMC6",
   "metadata": {
    "id": "5Ft1zAe6TMC6"
   },
   "outputs": [
    {
     "data": {
      "text/plain": [
       "array([[158,  28],\n",
       "       [ 30, 162]], dtype=int64)"
      ]
     },
     "execution_count": 110,
     "metadata": {},
     "output_type": "execute_result"
    }
   ],
   "source": [
    "confusion_matrix(test_data['Label'], y_pred)"
   ]
  },
  {
   "cell_type": "code",
   "execution_count": 111,
   "id": "eJsu1zgoTMC6",
   "metadata": {
    "id": "eJsu1zgoTMC6"
   },
   "outputs": [
    {
     "name": "stdout",
     "output_type": "stream",
     "text": [
      "              precision    recall  f1-score   support\n",
      "\n",
      "           0       0.84      0.85      0.84       186\n",
      "           1       0.85      0.84      0.85       192\n",
      "\n",
      "    accuracy                           0.85       378\n",
      "   macro avg       0.85      0.85      0.85       378\n",
      "weighted avg       0.85      0.85      0.85       378\n",
      "\n"
     ]
    }
   ],
   "source": [
    "print(classification_report(test_data['Label'], y_pred))"
   ]
  },
  {
   "cell_type": "code",
   "execution_count": 112,
   "id": "XI_JNMGETMC6",
   "metadata": {
    "id": "XI_JNMGETMC6"
   },
   "outputs": [
    {
     "name": "stdout",
     "output_type": "stream",
     "text": [
      "0.85\n"
     ]
    }
   ],
   "source": [
    "knn_acc2 = accuracy_score(test_data['Label'], y_pred).round(2)\n",
    "print(accuracy_score(test_data['Label'], y_pred).round(2))"
   ]
  },
  {
   "cell_type": "markdown",
   "id": "aS0Nm_eQgjNv",
   "metadata": {
    "id": "aS0Nm_eQgjNv"
   },
   "source": [
    "### **KNN Classifier with TfIdf Vectorizer**"
   ]
  },
  {
   "cell_type": "code",
   "execution_count": 113,
   "id": "5XBW6o_QgjN2",
   "metadata": {
    "id": "5XBW6o_QgjN2"
   },
   "outputs": [
    {
     "data": {
      "text/plain": [
       "array([[0., 0., 0., ..., 0., 0., 0.],\n",
       "       [0., 0., 0., ..., 0., 0., 0.],\n",
       "       [0., 0., 0., ..., 0., 0., 0.],\n",
       "       ...,\n",
       "       [0., 0., 0., ..., 0., 0., 0.],\n",
       "       [0., 0., 0., ..., 0., 0., 0.],\n",
       "       [0., 0., 0., ..., 0., 0., 0.]])"
      ]
     },
     "execution_count": 113,
     "metadata": {},
     "output_type": "execute_result"
    }
   ],
   "source": [
    "x = tfidf.fit_transform(train_data['headlines'])\n",
    "y = tfidf.transform(test_data['headlines'])\n",
    "x.toarray()\n",
    "y.toarray()"
   ]
  },
  {
   "cell_type": "code",
   "execution_count": 114,
   "id": "cfUsqlNxgjN2",
   "metadata": {
    "id": "cfUsqlNxgjN2"
   },
   "outputs": [
    {
     "data": {
      "text/plain": [
       "KNeighborsClassifier(metric='cosine', n_neighbors=1)"
      ]
     },
     "execution_count": 114,
     "metadata": {},
     "output_type": "execute_result"
    }
   ],
   "source": [
    "knn = KNeighborsClassifier(n_neighbors=1, metric = 'cosine')\n",
    "knn.fit(x, train_data['Label'])"
   ]
  },
  {
   "cell_type": "code",
   "execution_count": 115,
   "id": "57ff5b44",
   "metadata": {},
   "outputs": [
    {
     "data": {
      "text/plain": [
       "{'algorithm': 'auto',\n",
       " 'leaf_size': 30,\n",
       " 'metric': 'cosine',\n",
       " 'metric_params': None,\n",
       " 'n_jobs': None,\n",
       " 'n_neighbors': 1,\n",
       " 'p': 2,\n",
       " 'weights': 'uniform'}"
      ]
     },
     "execution_count": 115,
     "metadata": {},
     "output_type": "execute_result"
    }
   ],
   "source": [
    "knn.get_params()"
   ]
  },
  {
   "cell_type": "code",
   "execution_count": 116,
   "id": "rrEocFE9gjN2",
   "metadata": {
    "id": "rrEocFE9gjN2"
   },
   "outputs": [
    {
     "name": "stderr",
     "output_type": "stream",
     "text": [
      "C:\\Users\\Akshay Patil\\anaconda3\\lib\\site-packages\\sklearn\\neighbors\\_classification.py:228: FutureWarning: Unlike other reduction functions (e.g. `skew`, `kurtosis`), the default behavior of `mode` typically preserves the axis it acts along. In SciPy 1.11.0, this behavior will change: the default value of `keepdims` will become False, the `axis` over which the statistic is taken will be eliminated, and the value None will no longer be accepted. Set `keepdims` to True or False to avoid this warning.\n",
      "  mode, _ = stats.mode(_y[neigh_ind, k], axis=1)\n"
     ]
    }
   ],
   "source": [
    "y_pred = knn.predict(y)"
   ]
  },
  {
   "cell_type": "code",
   "execution_count": 117,
   "id": "FzBsrli8gjN2",
   "metadata": {
    "id": "FzBsrli8gjN2"
   },
   "outputs": [
    {
     "data": {
      "text/plain": [
       "array([[155,  31],\n",
       "       [ 35, 157]], dtype=int64)"
      ]
     },
     "execution_count": 117,
     "metadata": {},
     "output_type": "execute_result"
    }
   ],
   "source": [
    "confusion_matrix(test_data['Label'], y_pred)"
   ]
  },
  {
   "cell_type": "code",
   "execution_count": 118,
   "id": "nRAQFfBCgjN2",
   "metadata": {
    "id": "nRAQFfBCgjN2"
   },
   "outputs": [
    {
     "name": "stdout",
     "output_type": "stream",
     "text": [
      "              precision    recall  f1-score   support\n",
      "\n",
      "           0       0.82      0.83      0.82       186\n",
      "           1       0.84      0.82      0.83       192\n",
      "\n",
      "    accuracy                           0.83       378\n",
      "   macro avg       0.83      0.83      0.83       378\n",
      "weighted avg       0.83      0.83      0.83       378\n",
      "\n"
     ]
    }
   ],
   "source": [
    "print(classification_report(test_data['Label'], y_pred))"
   ]
  },
  {
   "cell_type": "code",
   "execution_count": 119,
   "id": "5k0iPxgmgjN2",
   "metadata": {
    "id": "5k0iPxgmgjN2"
   },
   "outputs": [
    {
     "name": "stdout",
     "output_type": "stream",
     "text": [
      "0.83\n"
     ]
    }
   ],
   "source": [
    "knn_acc3 = accuracy_score(test_data['Label'], y_pred).round(2)\n",
    "print(accuracy_score(test_data['Label'], y_pred).round(2))"
   ]
  },
  {
   "cell_type": "code",
   "execution_count": 120,
   "id": "qjKt-tCvgjN2",
   "metadata": {
    "id": "qjKt-tCvgjN2"
   },
   "outputs": [
    {
     "data": {
      "text/plain": [
       "array([[0., 0., 0., ..., 0., 0., 0.],\n",
       "       [0., 0., 0., ..., 0., 0., 0.],\n",
       "       [0., 0., 0., ..., 0., 0., 0.],\n",
       "       ...,\n",
       "       [0., 0., 0., ..., 0., 0., 0.],\n",
       "       [0., 0., 0., ..., 0., 0., 0.],\n",
       "       [0., 0., 0., ..., 0., 0., 0.]])"
      ]
     },
     "execution_count": 120,
     "metadata": {},
     "output_type": "execute_result"
    }
   ],
   "source": [
    "x = tfidf1.fit_transform(train_data['headlines'])\n",
    "y = tfidf1.transform(test_data['headlines'])\n",
    "x.toarray()\n",
    "y.toarray()"
   ]
  },
  {
   "cell_type": "code",
   "execution_count": 121,
   "id": "qrAaixXsgjN2",
   "metadata": {
    "id": "qrAaixXsgjN2"
   },
   "outputs": [
    {
     "data": {
      "text/plain": [
       "KNeighborsClassifier(metric='cosine', n_neighbors=1)"
      ]
     },
     "execution_count": 121,
     "metadata": {},
     "output_type": "execute_result"
    }
   ],
   "source": [
    "knn = KNeighborsClassifier(n_neighbors=1, metric = 'cosine')\n",
    "knn.fit(x, train_data['Label'])"
   ]
  },
  {
   "cell_type": "code",
   "execution_count": 122,
   "id": "afLQh9LUgjN2",
   "metadata": {
    "id": "afLQh9LUgjN2"
   },
   "outputs": [
    {
     "name": "stderr",
     "output_type": "stream",
     "text": [
      "C:\\Users\\Akshay Patil\\anaconda3\\lib\\site-packages\\sklearn\\neighbors\\_classification.py:228: FutureWarning: Unlike other reduction functions (e.g. `skew`, `kurtosis`), the default behavior of `mode` typically preserves the axis it acts along. In SciPy 1.11.0, this behavior will change: the default value of `keepdims` will become False, the `axis` over which the statistic is taken will be eliminated, and the value None will no longer be accepted. Set `keepdims` to True or False to avoid this warning.\n",
      "  mode, _ = stats.mode(_y[neigh_ind, k], axis=1)\n"
     ]
    }
   ],
   "source": [
    "y_pred = knn.predict(y)"
   ]
  },
  {
   "cell_type": "code",
   "execution_count": 123,
   "id": "342jaooGgjN3",
   "metadata": {
    "id": "342jaooGgjN3"
   },
   "outputs": [
    {
     "data": {
      "text/plain": [
       "array([[152,  34],\n",
       "       [ 29, 163]], dtype=int64)"
      ]
     },
     "execution_count": 123,
     "metadata": {},
     "output_type": "execute_result"
    }
   ],
   "source": [
    "confusion_matrix(test_data['Label'], y_pred)"
   ]
  },
  {
   "cell_type": "code",
   "execution_count": 124,
   "id": "P1prJ74wgjN3",
   "metadata": {
    "id": "P1prJ74wgjN3"
   },
   "outputs": [
    {
     "name": "stdout",
     "output_type": "stream",
     "text": [
      "              precision    recall  f1-score   support\n",
      "\n",
      "           0       0.84      0.82      0.83       186\n",
      "           1       0.83      0.85      0.84       192\n",
      "\n",
      "    accuracy                           0.83       378\n",
      "   macro avg       0.83      0.83      0.83       378\n",
      "weighted avg       0.83      0.83      0.83       378\n",
      "\n"
     ]
    }
   ],
   "source": [
    "print(classification_report(test_data['Label'], y_pred))"
   ]
  },
  {
   "cell_type": "code",
   "execution_count": 125,
   "id": "RRu9Uo61gjN3",
   "metadata": {
    "id": "RRu9Uo61gjN3"
   },
   "outputs": [
    {
     "name": "stdout",
     "output_type": "stream",
     "text": [
      "0.83\n"
     ]
    }
   ],
   "source": [
    "knn_acc4 = accuracy_score(test_data['Label'], y_pred).round(2)\n",
    "print(accuracy_score(test_data['Label'], y_pred).round(2))"
   ]
  },
  {
   "cell_type": "markdown",
   "id": "fJL6mA_mKwCF",
   "metadata": {
    "id": "fJL6mA_mKwCF"
   },
   "source": [
    "### **Decision Tree Classifier with Count Vectorizer**"
   ]
  },
  {
   "cell_type": "code",
   "execution_count": 126,
   "id": "qP9rjK7WKwCF",
   "metadata": {
    "id": "qP9rjK7WKwCF"
   },
   "outputs": [
    {
     "data": {
      "text/plain": [
       "array([[0, 0, 0, ..., 0, 0, 0],\n",
       "       [0, 0, 0, ..., 0, 0, 0],\n",
       "       [0, 0, 0, ..., 0, 0, 0],\n",
       "       ...,\n",
       "       [0, 0, 0, ..., 0, 0, 0],\n",
       "       [0, 0, 0, ..., 0, 0, 0],\n",
       "       [0, 0, 0, ..., 0, 0, 0]], dtype=int64)"
      ]
     },
     "execution_count": 126,
     "metadata": {},
     "output_type": "execute_result"
    }
   ],
   "source": [
    "x = cv.fit_transform(train_data['headlines'])\n",
    "y = cv.transform(test_data['headlines'])\n",
    "x.toarray()\n",
    "y.toarray()"
   ]
  },
  {
   "cell_type": "code",
   "execution_count": 127,
   "id": "apw4HRheKwCF",
   "metadata": {
    "id": "apw4HRheKwCF"
   },
   "outputs": [
    {
     "data": {
      "text/plain": [
       "DecisionTreeClassifier(criterion='entropy', max_depth=75, random_state=0)"
      ]
     },
     "execution_count": 127,
     "metadata": {},
     "output_type": "execute_result"
    }
   ],
   "source": [
    "decision_tree = DecisionTreeClassifier(random_state=0, criterion = 'entropy', max_depth=75)\n",
    "decision_tree.fit(x, train_data['Label'])"
   ]
  },
  {
   "cell_type": "code",
   "execution_count": 128,
   "id": "e15653d0",
   "metadata": {},
   "outputs": [
    {
     "data": {
      "text/plain": [
       "{'ccp_alpha': 0.0,\n",
       " 'class_weight': None,\n",
       " 'criterion': 'entropy',\n",
       " 'max_depth': 75,\n",
       " 'max_features': None,\n",
       " 'max_leaf_nodes': None,\n",
       " 'min_impurity_decrease': 0.0,\n",
       " 'min_samples_leaf': 1,\n",
       " 'min_samples_split': 2,\n",
       " 'min_weight_fraction_leaf': 0.0,\n",
       " 'random_state': 0,\n",
       " 'splitter': 'best'}"
      ]
     },
     "execution_count": 128,
     "metadata": {},
     "output_type": "execute_result"
    }
   ],
   "source": [
    "decision_tree.get_params()"
   ]
  },
  {
   "cell_type": "code",
   "execution_count": 129,
   "id": "B3Ctgsl4KwCF",
   "metadata": {
    "id": "B3Ctgsl4KwCF"
   },
   "outputs": [],
   "source": [
    "y_pred = decision_tree.predict(y)"
   ]
  },
  {
   "cell_type": "code",
   "execution_count": 130,
   "id": "Era70TCnKwCF",
   "metadata": {
    "id": "Era70TCnKwCF"
   },
   "outputs": [
    {
     "data": {
      "text/plain": [
       "array([[138,  48],\n",
       "       [ 30, 162]], dtype=int64)"
      ]
     },
     "execution_count": 130,
     "metadata": {},
     "output_type": "execute_result"
    }
   ],
   "source": [
    "confusion_matrix(test_data['Label'], y_pred)"
   ]
  },
  {
   "cell_type": "code",
   "execution_count": 131,
   "id": "IGnHdZCpKwCF",
   "metadata": {
    "id": "IGnHdZCpKwCF"
   },
   "outputs": [
    {
     "name": "stdout",
     "output_type": "stream",
     "text": [
      "              precision    recall  f1-score   support\n",
      "\n",
      "           0       0.82      0.74      0.78       186\n",
      "           1       0.77      0.84      0.81       192\n",
      "\n",
      "    accuracy                           0.79       378\n",
      "   macro avg       0.80      0.79      0.79       378\n",
      "weighted avg       0.80      0.79      0.79       378\n",
      "\n"
     ]
    }
   ],
   "source": [
    "print(classification_report(test_data['Label'], y_pred))"
   ]
  },
  {
   "cell_type": "code",
   "execution_count": 132,
   "id": "Y2XeXTwdKwCG",
   "metadata": {
    "id": "Y2XeXTwdKwCG"
   },
   "outputs": [
    {
     "name": "stdout",
     "output_type": "stream",
     "text": [
      "0.79\n"
     ]
    }
   ],
   "source": [
    "dt_acc1 = accuracy_score(test_data['Label'], y_pred).round(2)\n",
    "print(accuracy_score(test_data['Label'], y_pred).round(2))"
   ]
  },
  {
   "cell_type": "code",
   "execution_count": 133,
   "id": "P18yWIXrKwCG",
   "metadata": {
    "id": "P18yWIXrKwCG"
   },
   "outputs": [
    {
     "data": {
      "text/plain": [
       "array([[0, 0, 0, ..., 0, 0, 0],\n",
       "       [0, 0, 0, ..., 0, 0, 0],\n",
       "       [0, 0, 0, ..., 0, 0, 0],\n",
       "       ...,\n",
       "       [0, 0, 0, ..., 0, 0, 0],\n",
       "       [0, 0, 0, ..., 0, 0, 0],\n",
       "       [0, 0, 0, ..., 0, 0, 0]], dtype=int64)"
      ]
     },
     "execution_count": 133,
     "metadata": {},
     "output_type": "execute_result"
    }
   ],
   "source": [
    "x = cv1.fit_transform(train_data['headlines'])\n",
    "y = cv1.transform(test_data['headlines'])\n",
    "x.toarray()\n",
    "y.toarray()"
   ]
  },
  {
   "cell_type": "code",
   "execution_count": 134,
   "id": "xerpPLWVKwCG",
   "metadata": {
    "id": "xerpPLWVKwCG"
   },
   "outputs": [
    {
     "data": {
      "text/plain": [
       "DecisionTreeClassifier(max_depth=70, random_state=0)"
      ]
     },
     "execution_count": 134,
     "metadata": {},
     "output_type": "execute_result"
    }
   ],
   "source": [
    "decision_tree = DecisionTreeClassifier(random_state=0, max_depth=70)\n",
    "decision_tree.fit(x, train_data['Label'])"
   ]
  },
  {
   "cell_type": "code",
   "execution_count": 135,
   "id": "uZRniTewKwCG",
   "metadata": {
    "id": "uZRniTewKwCG"
   },
   "outputs": [],
   "source": [
    "y_pred = decision_tree.predict(y)"
   ]
  },
  {
   "cell_type": "code",
   "execution_count": 136,
   "id": "KD75ZRyZKwCG",
   "metadata": {
    "id": "KD75ZRyZKwCG"
   },
   "outputs": [
    {
     "data": {
      "text/plain": [
       "array([[ 75, 111],\n",
       "       [ 13, 179]], dtype=int64)"
      ]
     },
     "execution_count": 136,
     "metadata": {},
     "output_type": "execute_result"
    }
   ],
   "source": [
    "confusion_matrix(test_data['Label'], y_pred)"
   ]
  },
  {
   "cell_type": "code",
   "execution_count": 137,
   "id": "nMY_OfhcKwCG",
   "metadata": {
    "id": "nMY_OfhcKwCG"
   },
   "outputs": [
    {
     "name": "stdout",
     "output_type": "stream",
     "text": [
      "              precision    recall  f1-score   support\n",
      "\n",
      "           0       0.85      0.40      0.55       186\n",
      "           1       0.62      0.93      0.74       192\n",
      "\n",
      "    accuracy                           0.67       378\n",
      "   macro avg       0.73      0.67      0.65       378\n",
      "weighted avg       0.73      0.67      0.65       378\n",
      "\n"
     ]
    }
   ],
   "source": [
    "print(classification_report(test_data['Label'], y_pred))"
   ]
  },
  {
   "cell_type": "code",
   "execution_count": 138,
   "id": "PEcgRhgEKwCG",
   "metadata": {
    "id": "PEcgRhgEKwCG"
   },
   "outputs": [
    {
     "name": "stdout",
     "output_type": "stream",
     "text": [
      "0.67\n"
     ]
    }
   ],
   "source": [
    "dt_acc2 = accuracy_score(test_data['Label'], y_pred).round(2)\n",
    "print(accuracy_score(test_data['Label'], y_pred).round(2))"
   ]
  },
  {
   "cell_type": "markdown",
   "id": "sFcnaIVHMrq8",
   "metadata": {
    "id": "sFcnaIVHMrq8"
   },
   "source": [
    "### **Decision Tree Classifier with TfIdf Vectorizer**"
   ]
  },
  {
   "cell_type": "code",
   "execution_count": 139,
   "id": "YsYU-RwHMrrC",
   "metadata": {
    "id": "YsYU-RwHMrrC"
   },
   "outputs": [
    {
     "data": {
      "text/plain": [
       "array([[0., 0., 0., ..., 0., 0., 0.],\n",
       "       [0., 0., 0., ..., 0., 0., 0.],\n",
       "       [0., 0., 0., ..., 0., 0., 0.],\n",
       "       ...,\n",
       "       [0., 0., 0., ..., 0., 0., 0.],\n",
       "       [0., 0., 0., ..., 0., 0., 0.],\n",
       "       [0., 0., 0., ..., 0., 0., 0.]])"
      ]
     },
     "execution_count": 139,
     "metadata": {},
     "output_type": "execute_result"
    }
   ],
   "source": [
    "x = tfidf.fit_transform(train_data['headlines'])\n",
    "y = tfidf.transform(test_data['headlines'])\n",
    "x.toarray()\n",
    "y.toarray()"
   ]
  },
  {
   "cell_type": "code",
   "execution_count": 140,
   "id": "qKFXS1hOMrrC",
   "metadata": {
    "id": "qKFXS1hOMrrC"
   },
   "outputs": [
    {
     "data": {
      "text/plain": [
       "DecisionTreeClassifier(max_depth=70, random_state=0)"
      ]
     },
     "execution_count": 140,
     "metadata": {},
     "output_type": "execute_result"
    }
   ],
   "source": [
    "decision_tree = DecisionTreeClassifier(random_state=0, max_depth=70)\n",
    "decision_tree.fit(x, train_data['Label'])"
   ]
  },
  {
   "cell_type": "code",
   "execution_count": 141,
   "id": "8c60ae9d",
   "metadata": {},
   "outputs": [
    {
     "data": {
      "text/plain": [
       "{'ccp_alpha': 0.0,\n",
       " 'class_weight': None,\n",
       " 'criterion': 'gini',\n",
       " 'max_depth': 70,\n",
       " 'max_features': None,\n",
       " 'max_leaf_nodes': None,\n",
       " 'min_impurity_decrease': 0.0,\n",
       " 'min_samples_leaf': 1,\n",
       " 'min_samples_split': 2,\n",
       " 'min_weight_fraction_leaf': 0.0,\n",
       " 'random_state': 0,\n",
       " 'splitter': 'best'}"
      ]
     },
     "execution_count": 141,
     "metadata": {},
     "output_type": "execute_result"
    }
   ],
   "source": [
    "decision_tree.get_params()"
   ]
  },
  {
   "cell_type": "code",
   "execution_count": 142,
   "id": "6jSX_gfiMrrC",
   "metadata": {
    "id": "6jSX_gfiMrrC"
   },
   "outputs": [],
   "source": [
    "y_pred = decision_tree.predict(y)"
   ]
  },
  {
   "cell_type": "code",
   "execution_count": 143,
   "id": "XWZUDo94MrrC",
   "metadata": {
    "id": "XWZUDo94MrrC"
   },
   "outputs": [
    {
     "data": {
      "text/plain": [
       "array([[156,  30],\n",
       "       [ 35, 157]], dtype=int64)"
      ]
     },
     "execution_count": 143,
     "metadata": {},
     "output_type": "execute_result"
    }
   ],
   "source": [
    "confusion_matrix(test_data['Label'], y_pred)"
   ]
  },
  {
   "cell_type": "code",
   "execution_count": 144,
   "id": "fcr5j2c2MrrC",
   "metadata": {
    "id": "fcr5j2c2MrrC"
   },
   "outputs": [
    {
     "name": "stdout",
     "output_type": "stream",
     "text": [
      "              precision    recall  f1-score   support\n",
      "\n",
      "           0       0.82      0.84      0.83       186\n",
      "           1       0.84      0.82      0.83       192\n",
      "\n",
      "    accuracy                           0.83       378\n",
      "   macro avg       0.83      0.83      0.83       378\n",
      "weighted avg       0.83      0.83      0.83       378\n",
      "\n"
     ]
    }
   ],
   "source": [
    "print(classification_report(test_data['Label'], y_pred))"
   ]
  },
  {
   "cell_type": "code",
   "execution_count": 145,
   "id": "fZgmfKh-MrrC",
   "metadata": {
    "id": "fZgmfKh-MrrC"
   },
   "outputs": [
    {
     "name": "stdout",
     "output_type": "stream",
     "text": [
      "0.83\n"
     ]
    }
   ],
   "source": [
    "dt_acc3 = accuracy_score(test_data['Label'], y_pred).round(2)\n",
    "print(accuracy_score(test_data['Label'], y_pred).round(2))"
   ]
  },
  {
   "cell_type": "code",
   "execution_count": 146,
   "id": "ZSMvZ522MrrC",
   "metadata": {
    "id": "ZSMvZ522MrrC"
   },
   "outputs": [
    {
     "data": {
      "text/plain": [
       "array([[0., 0., 0., ..., 0., 0., 0.],\n",
       "       [0., 0., 0., ..., 0., 0., 0.],\n",
       "       [0., 0., 0., ..., 0., 0., 0.],\n",
       "       ...,\n",
       "       [0., 0., 0., ..., 0., 0., 0.],\n",
       "       [0., 0., 0., ..., 0., 0., 0.],\n",
       "       [0., 0., 0., ..., 0., 0., 0.]])"
      ]
     },
     "execution_count": 146,
     "metadata": {},
     "output_type": "execute_result"
    }
   ],
   "source": [
    "x = tfidf1.fit_transform(train_data['headlines'])\n",
    "y = tfidf1.transform(test_data['headlines'])\n",
    "x.toarray()\n",
    "y.toarray()"
   ]
  },
  {
   "cell_type": "code",
   "execution_count": 147,
   "id": "ZYqwIhliMrrD",
   "metadata": {
    "id": "ZYqwIhliMrrD"
   },
   "outputs": [
    {
     "data": {
      "text/plain": [
       "DecisionTreeClassifier(max_depth=70, random_state=0)"
      ]
     },
     "execution_count": 147,
     "metadata": {},
     "output_type": "execute_result"
    }
   ],
   "source": [
    "decision_tree = DecisionTreeClassifier(random_state=0, max_depth=70)\n",
    "decision_tree.fit(x, train_data['Label'])"
   ]
  },
  {
   "cell_type": "code",
   "execution_count": 148,
   "id": "68THjLV4MrrD",
   "metadata": {
    "id": "68THjLV4MrrD"
   },
   "outputs": [],
   "source": [
    "y_pred = decision_tree.predict(y)"
   ]
  },
  {
   "cell_type": "code",
   "execution_count": 149,
   "id": "vFkVCMe_MrrD",
   "metadata": {
    "id": "vFkVCMe_MrrD"
   },
   "outputs": [
    {
     "data": {
      "text/plain": [
       "array([[106,  80],\n",
       "       [ 31, 161]], dtype=int64)"
      ]
     },
     "execution_count": 149,
     "metadata": {},
     "output_type": "execute_result"
    }
   ],
   "source": [
    "confusion_matrix(test_data['Label'], y_pred)"
   ]
  },
  {
   "cell_type": "code",
   "execution_count": 150,
   "id": "-Tn-8N4qMrrD",
   "metadata": {
    "id": "-Tn-8N4qMrrD"
   },
   "outputs": [
    {
     "name": "stdout",
     "output_type": "stream",
     "text": [
      "              precision    recall  f1-score   support\n",
      "\n",
      "           0       0.77      0.57      0.66       186\n",
      "           1       0.67      0.84      0.74       192\n",
      "\n",
      "    accuracy                           0.71       378\n",
      "   macro avg       0.72      0.70      0.70       378\n",
      "weighted avg       0.72      0.71      0.70       378\n",
      "\n"
     ]
    }
   ],
   "source": [
    "print(classification_report(test_data['Label'], y_pred))"
   ]
  },
  {
   "cell_type": "code",
   "execution_count": 151,
   "id": "iyVOSQzoMrrD",
   "metadata": {
    "id": "iyVOSQzoMrrD"
   },
   "outputs": [
    {
     "name": "stdout",
     "output_type": "stream",
     "text": [
      "0.71\n"
     ]
    }
   ],
   "source": [
    "dt_acc4 = accuracy_score(test_data['Label'], y_pred).round(2)\n",
    "print(accuracy_score(test_data['Label'], y_pred).round(2))"
   ]
  },
  {
   "cell_type": "markdown",
   "id": "bIEpeMCWdG4y",
   "metadata": {
    "id": "bIEpeMCWdG4y"
   },
   "source": [
    "# **RESULTS AND ANALYSIS**"
   ]
  },
  {
   "cell_type": "code",
   "execution_count": 152,
   "id": "89rsfJtedPXy",
   "metadata": {
    "id": "89rsfJtedPXy"
   },
   "outputs": [
    {
     "name": "stdout",
     "output_type": "stream",
     "text": [
      "Model 1 : Decision Tree\n",
      "Accuracy with Count Vectorization (default) : 0.79\n",
      "Accuracy with Count Vectorization (using bigrams) : 0.67\n",
      "Accuracy with TfIdf Vectorization (default) : 0.83\n",
      "Accuracy with TfIdf Vectorization (using bigrams) : 0.71\n"
     ]
    },
    {
     "data": {
      "image/png": "[encoded data removed]",
      "text/plain": [
       "<Figure size 640x480 with 1 Axes>"
      ]
     },
     "metadata": {},
     "output_type": "display_data"
    }
   ],
   "source": [
    "print(\"Model 1 : Decision Tree\")\n",
    "print(\"Accuracy with Count Vectorization (default) : \" + str(dt_acc1))\n",
    "print(\"Accuracy with Count Vectorization (using bigrams) : \" + str(dt_acc2))\n",
    "print(\"Accuracy with TfIdf Vectorization (default) : \" + str(dt_acc3))\n",
    "print(\"Accuracy with TfIdf Vectorization (using bigrams) : \" + str(dt_acc4))\n",
    "plt.bar(['CV', 'CV(n_grams = 2)', 'TfIdf', 'TfIdf(n_grams = 2)'], [dt_acc1, dt_acc2, dt_acc3, dt_acc4])\n",
    "plt.show()"
   ]
  },
  {
   "cell_type": "code",
   "execution_count": 153,
   "id": "cKO0XzIOee-8",
   "metadata": {
    "id": "cKO0XzIOee-8"
   },
   "outputs": [
    {
     "name": "stdout",
     "output_type": "stream",
     "text": [
      "Model 2 : Random Forest\n",
      "Accuracy with Count Vectorization (default) : 0.84\n",
      "Accuracy with Count Vectorization (using bigrams) : 0.85\n",
      "Accuracy with TfIdf Vectorization (default) : 0.84\n",
      "Accuracy with TfIdf Vectorization (using bigrams) : 0.83\n"
     ]
    },
    {
     "data": {
      "image/png": "[encoded data removed]",
      "text/plain": [
       "<Figure size 640x480 with 1 Axes>"
      ]
     },
     "metadata": {},
     "output_type": "display_data"
    }
   ],
   "source": [
    "print(\"Model 2 : Random Forest\")\n",
    "print(\"Accuracy with Count Vectorization (default) : \" + str(rf_acc1))\n",
    "print(\"Accuracy with Count Vectorization (using bigrams) : \" + str(rf_acc2))\n",
    "print(\"Accuracy with TfIdf Vectorization (default) : \" + str(rf_acc3))\n",
    "print(\"Accuracy with TfIdf Vectorization (using bigrams) : \" + str(rf_acc4))\n",
    "plt.bar(['CV', 'CV(n_grams = 2)', 'TfIdf', 'TfIdf(n_grams = 2)'], [rf_acc1, rf_acc2, rf_acc3, rf_acc4])\n",
    "plt.show()"
   ]
  },
  {
   "cell_type": "code",
   "execution_count": 154,
   "id": "nKevo2C6eqBU",
   "metadata": {
    "id": "nKevo2C6eqBU"
   },
   "outputs": [
    {
     "name": "stdout",
     "output_type": "stream",
     "text": [
      "Model 3 : KNN\n",
      "Accuracy with Count Vectorization (default) : 0.85\n",
      "Accuracy with Count Vectorization (using bigrams) : 0.85\n",
      "Accuracy with TfIdf Vectorization (default) : 0.83\n",
      "Accuracy with TfIdf Vectorization (using bigrams) : 0.83\n"
     ]
    },
    {
     "data": {
      "image/png": "[encoded data removed]",
      "text/plain": [
       "<Figure size 640x480 with 1 Axes>"
      ]
     },
     "metadata": {},
     "output_type": "display_data"
    }
   ],
   "source": [
    "print(\"Model 3 : KNN\")\n",
    "print(\"Accuracy with Count Vectorization (default) : \" + str(knn_acc1))\n",
    "print(\"Accuracy with Count Vectorization (using bigrams) : \" + str(knn_acc2))\n",
    "print(\"Accuracy with TfIdf Vectorization (default) : \" + str(knn_acc3))\n",
    "print(\"Accuracy with TfIdf Vectorization (using bigrams) : \" + str(knn_acc4))\n",
    "plt.bar(['CV', 'CV(n_grams = 2)', 'TfIdf', 'TfIdf(n_grams = 2)'], [knn_acc1, knn_acc2, knn_acc3, knn_acc4])\n",
    "plt.show()"
   ]
  },
  {
   "cell_type": "code",
   "execution_count": 155,
   "id": "V-rS0REdfFS2",
   "metadata": {
    "id": "V-rS0REdfFS2"
   },
   "outputs": [
    {
     "name": "stdout",
     "output_type": "stream",
     "text": [
      "Model 4 : SVM\n",
      "Accuracy with Count Vectorization (default) : 0.84\n",
      "Accuracy with Count Vectorization (using bigrams) : 0.85\n",
      "Accuracy with TfIdf Vectorization (default) : 0.85\n",
      "Accuracy with TfIdf Vectorization (using bigrams) : 0.85\n"
     ]
    },
    {
     "data": {
      "image/png": "[encoded data removed]",
      "text/plain": [
       "<Figure size 640x480 with 1 Axes>"
      ]
     },
     "metadata": {},
     "output_type": "display_data"
    }
   ],
   "source": [
    "print(\"Model 4 : SVM\")\n",
    "print(\"Accuracy with Count Vectorization (default) : \" + str(svm_acc1))\n",
    "print(\"Accuracy with Count Vectorization (using bigrams) : \" + str(svm_acc2))\n",
    "print(\"Accuracy with TfIdf Vectorization (default) : \" + str(svm_acc3))\n",
    "print(\"Accuracy with TfIdf Vectorization (using bigrams) : \" + str(svm_acc4))\n",
    "plt.bar(['CV', 'CV(n_grams = 2)', 'TfIdf', 'TfIdf(n_grams = 2)'], [svm_acc1, svm_acc2, svm_acc3, svm_acc4])\n",
    "plt.show()"
   ]
  },
  {
   "cell_type": "code",
   "execution_count": 162,
   "id": "WCfjNzpYf13-",
   "metadata": {
    "id": "WCfjNzpYf13-"
   },
   "outputs": [
    {
     "data": {
      "image/png": "[encoded data removed]",
      "text/plain": [
       "<Figure size 700x700 with 1 Axes>"
      ]
     },
     "metadata": {},
     "output_type": "display_data"
    }
   ],
   "source": [
    "dt_acc = max([dt_acc1, dt_acc2, dt_acc3, dt_acc4])\n",
    "rf_acc = max([rf_acc1, rf_acc2, rf_acc3, rf_acc4])\n",
    "knn_acc = max([knn_acc1, knn_acc2, knn_acc3, knn_acc4])\n",
    "svm_acc = max([svm_acc1, svm_acc2, svm_acc3, svm_acc4])\n",
    "plt.figure(dpi=100,figsize=(7,7))\n",
    "plt.bar(['Decision Tree', 'Random Forest', 'KNN',  'SVM'], [dt_acc, rf_acc, knn_acc, svm_acc])\n",
    "plt.ylabel(\"Accuracy\")\n",
    "plt.xlabel(\"Models\")\n",
    "plt.savefig(\"1.jpg\")\n",
    "plt.show()"
   ]
  },
  {
   "cell_type": "markdown",
   "id": "f6885a49",
   "metadata": {},
   "source": [
    "# "
   ]
  }
 ],
 "metadata": {
  "colab": {
   "collapsed_sections": [
    "O4F69cAZO0cl",
    "P5R3ig4fO_Ei",
    "AIAKjp8UPmzY",
    "ptND29jqUJTu",
    "qjMQPcroavOL",
    "O7zIE__a2ojn",
    "uCeJ_2afs6V5",
    "zs4hKRGrtApM",
    "SWsP1gjw6uDE",
    "Dza2r3ya6xgn",
    "LEH6fed-63LW",
    "UmyBDCQ0Ia-9",
    "Ra4mohWW5E8l",
    "o5tgD9T5Gpvx",
    "6xfHdkMbG0si",
    "BMb6aEyBKwat",
    "RqjaR5lmN4Np",
    "UIH3JmhoTLzZ",
    "OLLuE2UqcxiJ",
    "8ftTD4cbTMC5",
    "aS0Nm_eQgjNv",
    "fJL6mA_mKwCF",
    "sFcnaIVHMrq8"
   ],
   "provenance": []
  },
  "kernelspec": {
   "display_name": "Python 3 (ipykernel)",
   "language": "python",
   "name": "python3"
  },
  "language_info": {
   "codemirror_mode": {
    "name": "ipython",
    "version": 3
   },
   "file_extension": ".py",
   "mimetype": "text/x-python",
   "name": "python",
   "nbconvert_exporter": "python",
   "pygments_lexer": "ipython3",
   "version": "3.9.12"
  },
  "vscode": {
   "interpreter": {
    "hash": "6a47a1216de649365bfd87d39d0bad693e80c884bcecc2d24746a5d5608b73a8"
   }
  }
 },
 "nbformat": 4,
 "nbformat_minor": 5
}
